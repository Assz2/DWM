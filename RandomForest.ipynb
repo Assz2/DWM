{
 "cells": [
  {
   "cell_type": "markdown",
   "metadata": {},
   "source": [
    "### **. Ensamble Methods:**"
   ]
  },
  {
   "cell_type": "code",
   "execution_count": 33,
   "metadata": {},
   "outputs": [
    {
     "data": {
      "text/plain": [
       "((1491, 13), (1491,))"
      ]
     },
     "execution_count": 33,
     "metadata": {},
     "output_type": "execute_result"
    }
   ],
   "source": [
    "import pandas as pd\n",
    "import numpy as np\n",
    "\n",
    "input_path = 'dataset/cleaned_train.csv'\n",
    "input_csv = pd.read_csv(input_path)\n",
    "\n",
    "train = input_csv.drop(columns='sii')\n",
    "y = input_csv['sii']\n",
    "\n",
    "train.shape, y.shape"
   ]
  },
  {
   "cell_type": "code",
   "execution_count": 34,
   "metadata": {},
   "outputs": [
    {
     "data": {
      "application/vnd.microsoft.datawrangler.viewer.v0+json": {
       "columns": [
        {
         "name": "index",
         "rawType": "int64",
         "type": "integer"
        },
        {
         "name": "Basic_Demos-Age",
         "rawType": "float64",
         "type": "float"
        },
        {
         "name": "CGAS-CGAS_Score",
         "rawType": "float64",
         "type": "float"
        },
        {
         "name": "Physical-Height",
         "rawType": "float64",
         "type": "float"
        },
        {
         "name": "Physical-Weight",
         "rawType": "float64",
         "type": "float"
        },
        {
         "name": "Physical-Diastolic_BP",
         "rawType": "float64",
         "type": "float"
        },
        {
         "name": "Physical-HeartRate",
         "rawType": "float64",
         "type": "float"
        },
        {
         "name": "Physical-Systolic_BP",
         "rawType": "float64",
         "type": "float"
        },
        {
         "name": "FGC-FGC_CU",
         "rawType": "float64",
         "type": "float"
        },
        {
         "name": "FGC-FGC_PU",
         "rawType": "float64",
         "type": "float"
        },
        {
         "name": "FGC-FGC_SRR",
         "rawType": "float64",
         "type": "float"
        },
        {
         "name": "BIA-BIA_DEE",
         "rawType": "float64",
         "type": "float"
        },
        {
         "name": "SDS-SDS_Total_Raw",
         "rawType": "float64",
         "type": "float"
        },
        {
         "name": "PreInt_EduHx-computerinternet_hoursday",
         "rawType": "float64",
         "type": "float"
        }
       ],
       "conversionMethod": "pd.DataFrame",
       "ref": "df4f9323-dfc8-4721-960c-e775c2cdf6d2",
       "rows": [
        [
         "0",
         "5.0",
         "51.0",
         "46.0",
         "51.0",
         "67.0",
         "85.0",
         "110.0",
         "0.0",
         "0.0",
         "6.0",
         "1492.0",
         "41.0",
         "3.0"
        ],
        [
         "1",
         "9.0",
         "62.0",
         "48.0",
         "46.0",
         "75.0",
         "70.0",
         "122.0",
         "3.0",
         "5.0",
         "13.75",
         "1499.0",
         "46.0",
         "0.0"
        ],
        [
         "2",
         "9.0",
         "71.0",
         "56.0",
         "82.0",
         "60.0",
         "97.0",
         "117.0",
         "22.5",
         "5.0",
         "7.0",
         "1923.0",
         "31.0",
         "0.0"
        ],
        [
         "3",
         "13.0",
         "50.0",
         "60.0",
         "112.0",
         "60.0",
         "73.0",
         "102.0",
         "12.0",
         "6.0",
         "13.75",
         "1996.0",
         "40.0",
         "0.0"
        ],
        [
         "4",
         "10.0",
         "65.0",
         "55.0",
         "85.0",
         "123.0",
         "83.0",
         "163.0",
         "11.25",
         "2.0",
         "13.75",
         "1817.0",
         "27.0",
         "3.0"
        ]
       ],
       "shape": {
        "columns": 13,
        "rows": 5
       }
      },
      "text/html": [
       "<div>\n",
       "<style scoped>\n",
       "    .dataframe tbody tr th:only-of-type {\n",
       "        vertical-align: middle;\n",
       "    }\n",
       "\n",
       "    .dataframe tbody tr th {\n",
       "        vertical-align: top;\n",
       "    }\n",
       "\n",
       "    .dataframe thead th {\n",
       "        text-align: right;\n",
       "    }\n",
       "</style>\n",
       "<table border=\"1\" class=\"dataframe\">\n",
       "  <thead>\n",
       "    <tr style=\"text-align: right;\">\n",
       "      <th></th>\n",
       "      <th>Basic_Demos-Age</th>\n",
       "      <th>CGAS-CGAS_Score</th>\n",
       "      <th>Physical-Height</th>\n",
       "      <th>Physical-Weight</th>\n",
       "      <th>Physical-Diastolic_BP</th>\n",
       "      <th>Physical-HeartRate</th>\n",
       "      <th>Physical-Systolic_BP</th>\n",
       "      <th>FGC-FGC_CU</th>\n",
       "      <th>FGC-FGC_PU</th>\n",
       "      <th>FGC-FGC_SRR</th>\n",
       "      <th>BIA-BIA_DEE</th>\n",
       "      <th>SDS-SDS_Total_Raw</th>\n",
       "      <th>PreInt_EduHx-computerinternet_hoursday</th>\n",
       "    </tr>\n",
       "  </thead>\n",
       "  <tbody>\n",
       "    <tr>\n",
       "      <th>0</th>\n",
       "      <td>5.0</td>\n",
       "      <td>51.0</td>\n",
       "      <td>46.0</td>\n",
       "      <td>51.0</td>\n",
       "      <td>67.0</td>\n",
       "      <td>85.0</td>\n",
       "      <td>110.0</td>\n",
       "      <td>0.00</td>\n",
       "      <td>0.0</td>\n",
       "      <td>6.00</td>\n",
       "      <td>1492.0</td>\n",
       "      <td>41.0</td>\n",
       "      <td>3.0</td>\n",
       "    </tr>\n",
       "    <tr>\n",
       "      <th>1</th>\n",
       "      <td>9.0</td>\n",
       "      <td>62.0</td>\n",
       "      <td>48.0</td>\n",
       "      <td>46.0</td>\n",
       "      <td>75.0</td>\n",
       "      <td>70.0</td>\n",
       "      <td>122.0</td>\n",
       "      <td>3.00</td>\n",
       "      <td>5.0</td>\n",
       "      <td>13.75</td>\n",
       "      <td>1499.0</td>\n",
       "      <td>46.0</td>\n",
       "      <td>0.0</td>\n",
       "    </tr>\n",
       "    <tr>\n",
       "      <th>2</th>\n",
       "      <td>9.0</td>\n",
       "      <td>71.0</td>\n",
       "      <td>56.0</td>\n",
       "      <td>82.0</td>\n",
       "      <td>60.0</td>\n",
       "      <td>97.0</td>\n",
       "      <td>117.0</td>\n",
       "      <td>22.50</td>\n",
       "      <td>5.0</td>\n",
       "      <td>7.00</td>\n",
       "      <td>1923.0</td>\n",
       "      <td>31.0</td>\n",
       "      <td>0.0</td>\n",
       "    </tr>\n",
       "    <tr>\n",
       "      <th>3</th>\n",
       "      <td>13.0</td>\n",
       "      <td>50.0</td>\n",
       "      <td>60.0</td>\n",
       "      <td>112.0</td>\n",
       "      <td>60.0</td>\n",
       "      <td>73.0</td>\n",
       "      <td>102.0</td>\n",
       "      <td>12.00</td>\n",
       "      <td>6.0</td>\n",
       "      <td>13.75</td>\n",
       "      <td>1996.0</td>\n",
       "      <td>40.0</td>\n",
       "      <td>0.0</td>\n",
       "    </tr>\n",
       "    <tr>\n",
       "      <th>4</th>\n",
       "      <td>10.0</td>\n",
       "      <td>65.0</td>\n",
       "      <td>55.0</td>\n",
       "      <td>85.0</td>\n",
       "      <td>123.0</td>\n",
       "      <td>83.0</td>\n",
       "      <td>163.0</td>\n",
       "      <td>11.25</td>\n",
       "      <td>2.0</td>\n",
       "      <td>13.75</td>\n",
       "      <td>1817.0</td>\n",
       "      <td>27.0</td>\n",
       "      <td>3.0</td>\n",
       "    </tr>\n",
       "  </tbody>\n",
       "</table>\n",
       "</div>"
      ],
      "text/plain": [
       "   Basic_Demos-Age  CGAS-CGAS_Score  Physical-Height  Physical-Weight  \\\n",
       "0              5.0             51.0             46.0             51.0   \n",
       "1              9.0             62.0             48.0             46.0   \n",
       "2              9.0             71.0             56.0             82.0   \n",
       "3             13.0             50.0             60.0            112.0   \n",
       "4             10.0             65.0             55.0             85.0   \n",
       "\n",
       "   Physical-Diastolic_BP  Physical-HeartRate  Physical-Systolic_BP  \\\n",
       "0                   67.0                85.0                 110.0   \n",
       "1                   75.0                70.0                 122.0   \n",
       "2                   60.0                97.0                 117.0   \n",
       "3                   60.0                73.0                 102.0   \n",
       "4                  123.0                83.0                 163.0   \n",
       "\n",
       "   FGC-FGC_CU  FGC-FGC_PU  FGC-FGC_SRR  BIA-BIA_DEE  SDS-SDS_Total_Raw  \\\n",
       "0        0.00         0.0         6.00       1492.0               41.0   \n",
       "1        3.00         5.0        13.75       1499.0               46.0   \n",
       "2       22.50         5.0         7.00       1923.0               31.0   \n",
       "3       12.00         6.0        13.75       1996.0               40.0   \n",
       "4       11.25         2.0        13.75       1817.0               27.0   \n",
       "\n",
       "   PreInt_EduHx-computerinternet_hoursday  \n",
       "0                                     3.0  \n",
       "1                                     0.0  \n",
       "2                                     0.0  \n",
       "3                                     0.0  \n",
       "4                                     3.0  "
      ]
     },
     "execution_count": 34,
     "metadata": {},
     "output_type": "execute_result"
    }
   ],
   "source": [
    "train.head()"
   ]
  },
  {
   "cell_type": "markdown",
   "metadata": {},
   "source": [
    " - Primi modelli basilari: Bagging, Boosting, Random Forest. Prendiamo il base model che meglio performa ed eseguiamo tuning dei parametri"
   ]
  },
  {
   "cell_type": "code",
   "execution_count": 35,
   "metadata": {},
   "outputs": [],
   "source": [
    "from sklearn.ensemble import BaggingClassifier, AdaBoostClassifier, RandomForestClassifier\n",
    "from sklearn.model_selection import cross_val_score, train_test_split\n",
    "from sklearn.metrics import accuracy_score\n",
    "import warnings\n",
    "\n",
    "X_train, X_val, y_train, y_val = train_test_split(train, y, test_size=0.25, random_state=0)"
   ]
  },
  {
   "cell_type": "code",
   "execution_count": 36,
   "metadata": {},
   "outputs": [
    {
     "name": "stdout",
     "output_type": "stream",
     "text": [
      "Bagging Cross Val Score: 0.6063051334425713,  Accuracy Score: 0.6246648793565683\n"
     ]
    },
    {
     "ename": "KeyboardInterrupt",
     "evalue": "",
     "output_type": "error",
     "traceback": [
      "\u001b[1;31m---------------------------------------------------------------------------\u001b[0m",
      "\u001b[1;31mKeyboardInterrupt\u001b[0m                         Traceback (most recent call last)",
      "Cell \u001b[1;32mIn[36], line 11\u001b[0m\n\u001b[0;32m      4\u001b[0m models \u001b[38;5;241m=\u001b[39m {\n\u001b[0;32m      5\u001b[0m     \u001b[38;5;124m'\u001b[39m\u001b[38;5;124mBagging\u001b[39m\u001b[38;5;124m'\u001b[39m: BaggingClassifier(),\n\u001b[0;32m      6\u001b[0m     \u001b[38;5;124m'\u001b[39m\u001b[38;5;124mBoosting\u001b[39m\u001b[38;5;124m'\u001b[39m: AdaBoostClassifier(),\n\u001b[0;32m      7\u001b[0m     \u001b[38;5;124m'\u001b[39m\u001b[38;5;124mRandom Forest\u001b[39m\u001b[38;5;124m'\u001b[39m: RandomForestClassifier()\n\u001b[0;32m      8\u001b[0m }\n\u001b[0;32m     10\u001b[0m \u001b[38;5;28;01mfor\u001b[39;00m name, model \u001b[38;5;129;01min\u001b[39;00m models\u001b[38;5;241m.\u001b[39mitems():\n\u001b[1;32m---> 11\u001b[0m     \u001b[43mmodel\u001b[49m\u001b[38;5;241;43m.\u001b[39;49m\u001b[43mfit\u001b[49m\u001b[43m(\u001b[49m\u001b[43mX_train\u001b[49m\u001b[43m,\u001b[49m\u001b[43m \u001b[49m\u001b[43my_train\u001b[49m\u001b[43m)\u001b[49m \n\u001b[0;32m     12\u001b[0m     acc_score  \u001b[38;5;241m=\u001b[39m accuracy_score(y_val, model\u001b[38;5;241m.\u001b[39mpredict(X_val))\n\u001b[0;32m     13\u001b[0m     cross_vals \u001b[38;5;241m=\u001b[39m cross_val_score(model, train, y, cv\u001b[38;5;241m=\u001b[39m\u001b[38;5;241m5\u001b[39m)\u001b[38;5;241m.\u001b[39mmean()\n",
      "File \u001b[1;32mc:\\Users\\alesz\\AppData\\Local\\Programs\\Python\\Python312\\Lib\\site-packages\\sklearn\\base.py:1389\u001b[0m, in \u001b[0;36m_fit_context.<locals>.decorator.<locals>.wrapper\u001b[1;34m(estimator, *args, **kwargs)\u001b[0m\n\u001b[0;32m   1382\u001b[0m     estimator\u001b[38;5;241m.\u001b[39m_validate_params()\n\u001b[0;32m   1384\u001b[0m \u001b[38;5;28;01mwith\u001b[39;00m config_context(\n\u001b[0;32m   1385\u001b[0m     skip_parameter_validation\u001b[38;5;241m=\u001b[39m(\n\u001b[0;32m   1386\u001b[0m         prefer_skip_nested_validation \u001b[38;5;129;01mor\u001b[39;00m global_skip_validation\n\u001b[0;32m   1387\u001b[0m     )\n\u001b[0;32m   1388\u001b[0m ):\n\u001b[1;32m-> 1389\u001b[0m     \u001b[38;5;28;01mreturn\u001b[39;00m \u001b[43mfit_method\u001b[49m\u001b[43m(\u001b[49m\u001b[43mestimator\u001b[49m\u001b[43m,\u001b[49m\u001b[43m \u001b[49m\u001b[38;5;241;43m*\u001b[39;49m\u001b[43margs\u001b[49m\u001b[43m,\u001b[49m\u001b[43m \u001b[49m\u001b[38;5;241;43m*\u001b[39;49m\u001b[38;5;241;43m*\u001b[39;49m\u001b[43mkwargs\u001b[49m\u001b[43m)\u001b[49m\n",
      "File \u001b[1;32mc:\\Users\\alesz\\AppData\\Local\\Programs\\Python\\Python312\\Lib\\site-packages\\sklearn\\ensemble\\_weight_boosting.py:167\u001b[0m, in \u001b[0;36mBaseWeightBoosting.fit\u001b[1;34m(self, X, y, sample_weight)\u001b[0m\n\u001b[0;32m    164\u001b[0m sample_weight[zero_weight_mask] \u001b[38;5;241m=\u001b[39m \u001b[38;5;241m0.0\u001b[39m\n\u001b[0;32m    166\u001b[0m \u001b[38;5;66;03m# Boosting step\u001b[39;00m\n\u001b[1;32m--> 167\u001b[0m sample_weight, estimator_weight, estimator_error \u001b[38;5;241m=\u001b[39m \u001b[38;5;28;43mself\u001b[39;49m\u001b[38;5;241;43m.\u001b[39;49m\u001b[43m_boost\u001b[49m\u001b[43m(\u001b[49m\n\u001b[0;32m    168\u001b[0m \u001b[43m    \u001b[49m\u001b[43miboost\u001b[49m\u001b[43m,\u001b[49m\u001b[43m \u001b[49m\u001b[43mX\u001b[49m\u001b[43m,\u001b[49m\u001b[43m \u001b[49m\u001b[43my\u001b[49m\u001b[43m,\u001b[49m\u001b[43m \u001b[49m\u001b[43msample_weight\u001b[49m\u001b[43m,\u001b[49m\u001b[43m \u001b[49m\u001b[43mrandom_state\u001b[49m\n\u001b[0;32m    169\u001b[0m \u001b[43m\u001b[49m\u001b[43m)\u001b[49m\n\u001b[0;32m    171\u001b[0m \u001b[38;5;66;03m# Early termination\u001b[39;00m\n\u001b[0;32m    172\u001b[0m \u001b[38;5;28;01mif\u001b[39;00m sample_weight \u001b[38;5;129;01mis\u001b[39;00m \u001b[38;5;28;01mNone\u001b[39;00m:\n",
      "File \u001b[1;32mc:\\Users\\alesz\\AppData\\Local\\Programs\\Python\\Python312\\Lib\\site-packages\\sklearn\\ensemble\\_weight_boosting.py:570\u001b[0m, in \u001b[0;36mAdaBoostClassifier._boost\u001b[1;34m(self, iboost, X, y, sample_weight, random_state)\u001b[0m\n\u001b[0;32m    531\u001b[0m \u001b[38;5;250m\u001b[39m\u001b[38;5;124;03m\"\"\"Implement a single boost.\u001b[39;00m\n\u001b[0;32m    532\u001b[0m \n\u001b[0;32m    533\u001b[0m \u001b[38;5;124;03mPerform a single boost according to the discrete SAMME algorithm and return the\u001b[39;00m\n\u001b[1;32m   (...)\u001b[0m\n\u001b[0;32m    566\u001b[0m \u001b[38;5;124;03m    If None then boosting has terminated early.\u001b[39;00m\n\u001b[0;32m    567\u001b[0m \u001b[38;5;124;03m\"\"\"\u001b[39;00m\n\u001b[0;32m    568\u001b[0m estimator \u001b[38;5;241m=\u001b[39m \u001b[38;5;28mself\u001b[39m\u001b[38;5;241m.\u001b[39m_make_estimator(random_state\u001b[38;5;241m=\u001b[39mrandom_state)\n\u001b[1;32m--> 570\u001b[0m \u001b[43mestimator\u001b[49m\u001b[38;5;241;43m.\u001b[39;49m\u001b[43mfit\u001b[49m\u001b[43m(\u001b[49m\u001b[43mX\u001b[49m\u001b[43m,\u001b[49m\u001b[43m \u001b[49m\u001b[43my\u001b[49m\u001b[43m,\u001b[49m\u001b[43m \u001b[49m\u001b[43msample_weight\u001b[49m\u001b[38;5;241;43m=\u001b[39;49m\u001b[43msample_weight\u001b[49m\u001b[43m)\u001b[49m\n\u001b[0;32m    572\u001b[0m y_predict \u001b[38;5;241m=\u001b[39m estimator\u001b[38;5;241m.\u001b[39mpredict(X)\n\u001b[0;32m    574\u001b[0m \u001b[38;5;28;01mif\u001b[39;00m iboost \u001b[38;5;241m==\u001b[39m \u001b[38;5;241m0\u001b[39m:\n",
      "File \u001b[1;32mc:\\Users\\alesz\\AppData\\Local\\Programs\\Python\\Python312\\Lib\\site-packages\\sklearn\\base.py:1389\u001b[0m, in \u001b[0;36m_fit_context.<locals>.decorator.<locals>.wrapper\u001b[1;34m(estimator, *args, **kwargs)\u001b[0m\n\u001b[0;32m   1382\u001b[0m     estimator\u001b[38;5;241m.\u001b[39m_validate_params()\n\u001b[0;32m   1384\u001b[0m \u001b[38;5;28;01mwith\u001b[39;00m config_context(\n\u001b[0;32m   1385\u001b[0m     skip_parameter_validation\u001b[38;5;241m=\u001b[39m(\n\u001b[0;32m   1386\u001b[0m         prefer_skip_nested_validation \u001b[38;5;129;01mor\u001b[39;00m global_skip_validation\n\u001b[0;32m   1387\u001b[0m     )\n\u001b[0;32m   1388\u001b[0m ):\n\u001b[1;32m-> 1389\u001b[0m     \u001b[38;5;28;01mreturn\u001b[39;00m \u001b[43mfit_method\u001b[49m\u001b[43m(\u001b[49m\u001b[43mestimator\u001b[49m\u001b[43m,\u001b[49m\u001b[43m \u001b[49m\u001b[38;5;241;43m*\u001b[39;49m\u001b[43margs\u001b[49m\u001b[43m,\u001b[49m\u001b[43m \u001b[49m\u001b[38;5;241;43m*\u001b[39;49m\u001b[38;5;241;43m*\u001b[39;49m\u001b[43mkwargs\u001b[49m\u001b[43m)\u001b[49m\n",
      "File \u001b[1;32mc:\\Users\\alesz\\AppData\\Local\\Programs\\Python\\Python312\\Lib\\site-packages\\sklearn\\tree\\_classes.py:1024\u001b[0m, in \u001b[0;36mDecisionTreeClassifier.fit\u001b[1;34m(self, X, y, sample_weight, check_input)\u001b[0m\n\u001b[0;32m    993\u001b[0m \u001b[38;5;129m@_fit_context\u001b[39m(prefer_skip_nested_validation\u001b[38;5;241m=\u001b[39m\u001b[38;5;28;01mTrue\u001b[39;00m)\n\u001b[0;32m    994\u001b[0m \u001b[38;5;28;01mdef\u001b[39;00m \u001b[38;5;21mfit\u001b[39m(\u001b[38;5;28mself\u001b[39m, X, y, sample_weight\u001b[38;5;241m=\u001b[39m\u001b[38;5;28;01mNone\u001b[39;00m, check_input\u001b[38;5;241m=\u001b[39m\u001b[38;5;28;01mTrue\u001b[39;00m):\n\u001b[0;32m    995\u001b[0m \u001b[38;5;250m    \u001b[39m\u001b[38;5;124;03m\"\"\"Build a decision tree classifier from the training set (X, y).\u001b[39;00m\n\u001b[0;32m    996\u001b[0m \n\u001b[0;32m    997\u001b[0m \u001b[38;5;124;03m    Parameters\u001b[39;00m\n\u001b[1;32m   (...)\u001b[0m\n\u001b[0;32m   1021\u001b[0m \u001b[38;5;124;03m        Fitted estimator.\u001b[39;00m\n\u001b[0;32m   1022\u001b[0m \u001b[38;5;124;03m    \"\"\"\u001b[39;00m\n\u001b[1;32m-> 1024\u001b[0m     \u001b[38;5;28;43msuper\u001b[39;49m\u001b[43m(\u001b[49m\u001b[43m)\u001b[49m\u001b[38;5;241;43m.\u001b[39;49m\u001b[43m_fit\u001b[49m\u001b[43m(\u001b[49m\n\u001b[0;32m   1025\u001b[0m \u001b[43m        \u001b[49m\u001b[43mX\u001b[49m\u001b[43m,\u001b[49m\n\u001b[0;32m   1026\u001b[0m \u001b[43m        \u001b[49m\u001b[43my\u001b[49m\u001b[43m,\u001b[49m\n\u001b[0;32m   1027\u001b[0m \u001b[43m        \u001b[49m\u001b[43msample_weight\u001b[49m\u001b[38;5;241;43m=\u001b[39;49m\u001b[43msample_weight\u001b[49m\u001b[43m,\u001b[49m\n\u001b[0;32m   1028\u001b[0m \u001b[43m        \u001b[49m\u001b[43mcheck_input\u001b[49m\u001b[38;5;241;43m=\u001b[39;49m\u001b[43mcheck_input\u001b[49m\u001b[43m,\u001b[49m\n\u001b[0;32m   1029\u001b[0m \u001b[43m    \u001b[49m\u001b[43m)\u001b[49m\n\u001b[0;32m   1030\u001b[0m     \u001b[38;5;28;01mreturn\u001b[39;00m \u001b[38;5;28mself\u001b[39m\n",
      "File \u001b[1;32mc:\\Users\\alesz\\AppData\\Local\\Programs\\Python\\Python312\\Lib\\site-packages\\sklearn\\tree\\_classes.py:472\u001b[0m, in \u001b[0;36mBaseDecisionTree._fit\u001b[1;34m(self, X, y, sample_weight, check_input, missing_values_in_feature_mask)\u001b[0m\n\u001b[0;32m    461\u001b[0m \u001b[38;5;28;01melse\u001b[39;00m:\n\u001b[0;32m    462\u001b[0m     builder \u001b[38;5;241m=\u001b[39m BestFirstTreeBuilder(\n\u001b[0;32m    463\u001b[0m         splitter,\n\u001b[0;32m    464\u001b[0m         min_samples_split,\n\u001b[1;32m   (...)\u001b[0m\n\u001b[0;32m    469\u001b[0m         \u001b[38;5;28mself\u001b[39m\u001b[38;5;241m.\u001b[39mmin_impurity_decrease,\n\u001b[0;32m    470\u001b[0m     )\n\u001b[1;32m--> 472\u001b[0m \u001b[43mbuilder\u001b[49m\u001b[38;5;241;43m.\u001b[39;49m\u001b[43mbuild\u001b[49m\u001b[43m(\u001b[49m\u001b[38;5;28;43mself\u001b[39;49m\u001b[38;5;241;43m.\u001b[39;49m\u001b[43mtree_\u001b[49m\u001b[43m,\u001b[49m\u001b[43m \u001b[49m\u001b[43mX\u001b[49m\u001b[43m,\u001b[49m\u001b[43m \u001b[49m\u001b[43my\u001b[49m\u001b[43m,\u001b[49m\u001b[43m \u001b[49m\u001b[43msample_weight\u001b[49m\u001b[43m,\u001b[49m\u001b[43m \u001b[49m\u001b[43mmissing_values_in_feature_mask\u001b[49m\u001b[43m)\u001b[49m\n\u001b[0;32m    474\u001b[0m \u001b[38;5;28;01mif\u001b[39;00m \u001b[38;5;28mself\u001b[39m\u001b[38;5;241m.\u001b[39mn_outputs_ \u001b[38;5;241m==\u001b[39m \u001b[38;5;241m1\u001b[39m \u001b[38;5;129;01mand\u001b[39;00m is_classifier(\u001b[38;5;28mself\u001b[39m):\n\u001b[0;32m    475\u001b[0m     \u001b[38;5;28mself\u001b[39m\u001b[38;5;241m.\u001b[39mn_classes_ \u001b[38;5;241m=\u001b[39m \u001b[38;5;28mself\u001b[39m\u001b[38;5;241m.\u001b[39mn_classes_[\u001b[38;5;241m0\u001b[39m]\n",
      "\u001b[1;31mKeyboardInterrupt\u001b[0m: "
     ]
    }
   ],
   "source": [
    "# give me three models: Bagging, Boosting and Random Forest\n",
    "\n",
    "warnings.filterwarnings('ignore')\n",
    "models = {\n",
    "    'Bagging': BaggingClassifier(),\n",
    "    'Boosting': AdaBoostClassifier(),\n",
    "    'Random Forest': RandomForestClassifier()\n",
    "}\n",
    "\n",
    "for name, model in models.items():\n",
    "    model.fit(X_train, y_train) \n",
    "    acc_score  = accuracy_score(y_val, model.predict(X_val))\n",
    "    cross_vals = cross_val_score(model, train, y, cv=5).mean()\n",
    "    print(f'{name} Cross Val Score: {np.mean(cross_vals)},  Accuracy Score: {acc_score}')\n"
   ]
  },
  {
   "cell_type": "code",
   "execution_count": null,
   "metadata": {},
   "outputs": [],
   "source": [
    "# values results are very similar between the three models. RandomForest is Bagging based\n",
    "# Given that Im going to use RandomForest with fully grown trees\n",
    "# then I will try with lower variance Boosting models"
   ]
  },
  {
   "cell_type": "markdown",
   "metadata": {},
   "source": [
    "**. Tune The HyperParamethers For The Random Forest**"
   ]
  },
  {
   "cell_type": "code",
   "execution_count": null,
   "metadata": {},
   "outputs": [],
   "source": [
    "# utility variables\n",
    "_l_bound = 20\n",
    "_u_bound = 80\n",
    "\n",
    "i = _l_bound\n",
    "b_acc_score      = 0\n",
    "b_cross_score    = 0\n",
    "best_t_acc       = i\n",
    "best_t_cross     = i"
   ]
  },
  {
   "cell_type": "code",
   "execution_count": null,
   "metadata": {},
   "outputs": [],
   "source": [
    "def reset_variables_number_estimators():\n",
    "    global b_acc_score, b_cross_score, best_t_acc, best_t_cross, i\n",
    "    i = _l_bound\n",
    "    b_acc_score      = 0\n",
    "    b_cross_score    = 0\n",
    "    best_t_acc       = i\n",
    "    best_t_cross     = i"
   ]
  },
  {
   "cell_type": "code",
   "execution_count": null,
   "metadata": {},
   "outputs": [
    {
     "name": "stdout",
     "output_type": "stream",
     "text": [
      "t: 20 | Accuracy 0.641  | Cross validation score 0.612\n",
      "t: 21 | Accuracy 0.641  | Cross validation score 0.608\n",
      "t: 22 | Accuracy 0.638  | Cross validation score 0.612\n",
      "t: 23 | Accuracy 0.646  | Cross validation score 0.610\n",
      "t: 24 | Accuracy 0.638  | Cross validation score 0.616\n",
      "t: 25 | Accuracy 0.641  | Cross validation score 0.614\n",
      "t: 26 | Accuracy 0.641  | Cross validation score 0.618\n",
      "t: 27 | Accuracy 0.638  | Cross validation score 0.616\n",
      "t: 28 | Accuracy 0.646  | Cross validation score 0.623\n",
      "t: 29 | Accuracy 0.651  | Cross validation score 0.621\n",
      "t: 30 | Accuracy 0.643  | Cross validation score 0.619\n",
      "t: 31 | Accuracy 0.646  | Cross validation score 0.619\n",
      "t: 32 | Accuracy 0.643  | Cross validation score 0.618\n",
      "t: 33 | Accuracy 0.660  | Cross validation score 0.621\n",
      "t: 34 | Accuracy 0.662  | Cross validation score 0.618\n",
      "t: 35 | Accuracy 0.660  | Cross validation score 0.618\n",
      "t: 36 | Accuracy 0.668  | Cross validation score 0.621\n",
      "t: 37 | Accuracy 0.660  | Cross validation score 0.624\n",
      "t: 38 | Accuracy 0.654  | Cross validation score 0.617\n",
      "t: 39 | Accuracy 0.660  | Cross validation score 0.617\n",
      "t: 40 | Accuracy 0.665  | Cross validation score 0.618\n",
      "t: 41 | Accuracy 0.662  | Cross validation score 0.620\n",
      "t: 42 | Accuracy 0.670  | Cross validation score 0.619\n",
      "t: 43 | Accuracy 0.670  | Cross validation score 0.617\n",
      "t: 44 | Accuracy 0.665  | Cross validation score 0.615\n",
      "t: 45 | Accuracy 0.668  | Cross validation score 0.614\n",
      "t: 46 | Accuracy 0.662  | Cross validation score 0.618\n",
      "t: 47 | Accuracy 0.657  | Cross validation score 0.617\n",
      "t: 48 | Accuracy 0.651  | Cross validation score 0.620\n",
      "t: 49 | Accuracy 0.649  | Cross validation score 0.622\n",
      "t: 50 | Accuracy 0.646  | Cross validation score 0.618\n",
      "t: 51 | Accuracy 0.654  | Cross validation score 0.616\n",
      "t: 52 | Accuracy 0.662  | Cross validation score 0.620\n",
      "t: 53 | Accuracy 0.660  | Cross validation score 0.618\n",
      "t: 54 | Accuracy 0.665  | Cross validation score 0.618\n",
      "t: 55 | Accuracy 0.668  | Cross validation score 0.622\n",
      "t: 56 | Accuracy 0.673  | Cross validation score 0.624\n",
      "t: 57 | Accuracy 0.673  | Cross validation score 0.620\n",
      "t: 58 | Accuracy 0.676  | Cross validation score 0.619\n",
      "t: 59 | Accuracy 0.662  | Cross validation score 0.621\n",
      "t: 60 | Accuracy 0.665  | Cross validation score 0.616\n",
      "t: 61 | Accuracy 0.670  | Cross validation score 0.616\n",
      "t: 62 | Accuracy 0.670  | Cross validation score 0.620\n",
      "t: 63 | Accuracy 0.660  | Cross validation score 0.618\n",
      "t: 64 | Accuracy 0.673  | Cross validation score 0.617\n",
      "t: 65 | Accuracy 0.668  | Cross validation score 0.620\n",
      "t: 66 | Accuracy 0.665  | Cross validation score 0.620\n",
      "t: 67 | Accuracy 0.660  | Cross validation score 0.622\n",
      "t: 68 | Accuracy 0.660  | Cross validation score 0.622\n",
      "t: 69 | Accuracy 0.662  | Cross validation score 0.620\n",
      "t: 70 | Accuracy 0.660  | Cross validation score 0.622\n",
      "t: 71 | Accuracy 0.651  | Cross validation score 0.618\n",
      "t: 72 | Accuracy 0.665  | Cross validation score 0.618\n",
      "t: 73 | Accuracy 0.657  | Cross validation score 0.620\n",
      "t: 74 | Accuracy 0.660  | Cross validation score 0.620\n",
      "t: 75 | Accuracy 0.660  | Cross validation score 0.624\n",
      "t: 76 | Accuracy 0.665  | Cross validation score 0.620\n",
      "t: 77 | Accuracy 0.665  | Cross validation score 0.620\n",
      "t: 78 | Accuracy 0.660  | Cross validation score 0.619\n",
      "t: 79 | Accuracy 0.662  | Cross validation score 0.617\n",
      "Best Accuracy Score: 0.675603217158177 with 58 estimators\n",
      " Best Cross Val Score: 0.6244259388116989 with 56 estimators\n"
     ]
    }
   ],
   "source": [
    "# Let's Tune the number of estimators:\n",
    "reset_variables_number_estimators()\n",
    "\n",
    "for t in range(_l_bound, _u_bound):\n",
    "    model = RandomForestClassifier(n_estimators=t, random_state=42)\n",
    "    model.fit(X_train, y_train)\n",
    "    y_pred = model.predict(X_val)\n",
    "    acc_score = accuracy_score(y_val, y_pred)\n",
    "    cross_vals = cross_val_score(model, train, y, cv=5).mean()\n",
    "\n",
    "    print (\"t: {:2d} | Accuracy {:.3f}\".format(t,acc_score), \" | Cross validation score {:.3f}\".format(cross_vals))\n",
    "\n",
    "    if acc_score > b_acc_score:\n",
    "        b_acc_score = acc_score\n",
    "        best_t_acc = i\n",
    "\n",
    "    if cross_vals > b_cross_score:\n",
    "        b_cross_score = cross_vals\n",
    "        best_t_cross = i\n",
    "    i += 1\n",
    "\n",
    "print(f'Best Accuracy Score: {b_acc_score} with {best_t_acc} estimators\\n Best Cross Val Score: {b_cross_score} with {best_t_cross} estimators')"
   ]
  },
  {
   "cell_type": "code",
   "execution_count": null,
   "metadata": {},
   "outputs": [
    {
     "name": "stdout",
     "output_type": "stream",
     "text": [
      "t: 20 | Accuracy 0.662  | Cross validation score 0.621\n",
      "t: 21 | Accuracy 0.665  | Cross validation score 0.620\n",
      "t: 22 | Accuracy 0.678  | Cross validation score 0.612\n",
      "t: 23 | Accuracy 0.668  | Cross validation score 0.619\n",
      "t: 24 | Accuracy 0.668  | Cross validation score 0.613\n",
      "t: 25 | Accuracy 0.670  | Cross validation score 0.619\n",
      "t: 26 | Accuracy 0.676  | Cross validation score 0.616\n",
      "t: 27 | Accuracy 0.668  | Cross validation score 0.614\n",
      "t: 28 | Accuracy 0.668  | Cross validation score 0.612\n",
      "t: 29 | Accuracy 0.670  | Cross validation score 0.616\n",
      "t: 30 | Accuracy 0.670  | Cross validation score 0.616\n",
      "t: 31 | Accuracy 0.676  | Cross validation score 0.620\n",
      "t: 32 | Accuracy 0.665  | Cross validation score 0.616\n",
      "t: 33 | Accuracy 0.686  | Cross validation score 0.614\n",
      "t: 34 | Accuracy 0.689  | Cross validation score 0.621\n",
      "t: 35 | Accuracy 0.684  | Cross validation score 0.618\n",
      "t: 36 | Accuracy 0.670  | Cross validation score 0.623\n",
      "t: 37 | Accuracy 0.668  | Cross validation score 0.618\n",
      "t: 38 | Accuracy 0.678  | Cross validation score 0.622\n",
      "t: 39 | Accuracy 0.665  | Cross validation score 0.614\n",
      "t: 40 | Accuracy 0.676  | Cross validation score 0.617\n",
      "t: 41 | Accuracy 0.665  | Cross validation score 0.618\n",
      "t: 42 | Accuracy 0.657  | Cross validation score 0.618\n",
      "t: 43 | Accuracy 0.657  | Cross validation score 0.616\n",
      "t: 44 | Accuracy 0.662  | Cross validation score 0.619\n",
      "t: 45 | Accuracy 0.662  | Cross validation score 0.623\n",
      "t: 46 | Accuracy 0.668  | Cross validation score 0.622\n",
      "t: 47 | Accuracy 0.668  | Cross validation score 0.624\n",
      "t: 48 | Accuracy 0.665  | Cross validation score 0.617\n",
      "t: 49 | Accuracy 0.670  | Cross validation score 0.617\n",
      "t: 50 | Accuracy 0.668  | Cross validation score 0.614\n",
      "t: 51 | Accuracy 0.662  | Cross validation score 0.616\n",
      "t: 52 | Accuracy 0.676  | Cross validation score 0.617\n",
      "t: 53 | Accuracy 0.684  | Cross validation score 0.618\n",
      "t: 54 | Accuracy 0.673  | Cross validation score 0.617\n",
      "t: 55 | Accuracy 0.686  | Cross validation score 0.620\n",
      "t: 56 | Accuracy 0.684  | Cross validation score 0.616\n",
      "t: 57 | Accuracy 0.689  | Cross validation score 0.618\n",
      "t: 58 | Accuracy 0.676  | Cross validation score 0.618\n",
      "t: 59 | Accuracy 0.670  | Cross validation score 0.620\n",
      "t: 60 | Accuracy 0.681  | Cross validation score 0.620\n",
      "t: 61 | Accuracy 0.676  | Cross validation score 0.618\n",
      "t: 62 | Accuracy 0.678  | Cross validation score 0.621\n",
      "t: 63 | Accuracy 0.684  | Cross validation score 0.621\n",
      "t: 64 | Accuracy 0.678  | Cross validation score 0.622\n",
      "t: 65 | Accuracy 0.686  | Cross validation score 0.623\n",
      "t: 66 | Accuracy 0.686  | Cross validation score 0.620\n",
      "t: 67 | Accuracy 0.681  | Cross validation score 0.624\n",
      "t: 68 | Accuracy 0.686  | Cross validation score 0.619\n",
      "t: 69 | Accuracy 0.681  | Cross validation score 0.620\n",
      "t: 70 | Accuracy 0.681  | Cross validation score 0.623\n",
      "t: 71 | Accuracy 0.684  | Cross validation score 0.623\n",
      "t: 72 | Accuracy 0.678  | Cross validation score 0.622\n",
      "t: 73 | Accuracy 0.676  | Cross validation score 0.625\n",
      "t: 74 | Accuracy 0.676  | Cross validation score 0.624\n",
      "t: 75 | Accuracy 0.681  | Cross validation score 0.626\n",
      "t: 76 | Accuracy 0.676  | Cross validation score 0.620\n",
      "t: 77 | Accuracy 0.678  | Cross validation score 0.620\n",
      "t: 78 | Accuracy 0.678  | Cross validation score 0.621\n",
      "t: 79 | Accuracy 0.681  | Cross validation score 0.622\n",
      "Best Accuracy Score: 0.6890080428954424 with 34 estimators\n",
      " Best Cross Val Score: 0.6257637314538393 with 75 estimators\n"
     ]
    }
   ],
   "source": [
    "# Lets try with a different split criterion \n",
    "# -> entropy\n",
    "reset_variables_number_estimators()\n",
    "\n",
    "for t in range(_l_bound, _u_bound):\n",
    "    model = RandomForestClassifier(n_estimators=t, criterion=\"entropy\", random_state=42)\n",
    "    model.fit(X_train, y_train)\n",
    "    y_pred = model.predict(X_val)\n",
    "    acc_score = accuracy_score(y_val, y_pred)\n",
    "    cross_vals = cross_val_score(model, train, y, cv=5).mean()\n",
    "\n",
    "    print (\"t: {:2d} | Accuracy {:.3f}\".format(t,acc_score), \" | Cross validation score {:.3f}\".format(cross_vals))\n",
    "\n",
    "    if acc_score > b_acc_score:\n",
    "        b_acc_score = acc_score\n",
    "        best_t_acc = i\n",
    "\n",
    "    if cross_vals > b_cross_score:\n",
    "        b_cross_score = cross_vals\n",
    "        best_t_cross = i\n",
    "    i += 1\n",
    "\n",
    "print(f'Best Accuracy Score: {b_acc_score} with {best_t_acc} estimators\\n Best Cross Val Score: {b_cross_score} with {best_t_cross} estimators')"
   ]
  },
  {
   "cell_type": "code",
   "execution_count": null,
   "metadata": {},
   "outputs": [
    {
     "name": "stdout",
     "output_type": "stream",
     "text": [
      "t: 20 | Accuracy 0.662  | Cross validation score 0.621\n",
      "t: 21 | Accuracy 0.665  | Cross validation score 0.620\n",
      "t: 22 | Accuracy 0.678  | Cross validation score 0.612\n",
      "t: 23 | Accuracy 0.668  | Cross validation score 0.619\n",
      "t: 24 | Accuracy 0.668  | Cross validation score 0.613\n",
      "t: 25 | Accuracy 0.670  | Cross validation score 0.619\n",
      "t: 26 | Accuracy 0.676  | Cross validation score 0.616\n",
      "t: 27 | Accuracy 0.668  | Cross validation score 0.614\n",
      "t: 28 | Accuracy 0.668  | Cross validation score 0.612\n",
      "t: 29 | Accuracy 0.670  | Cross validation score 0.616\n",
      "t: 30 | Accuracy 0.670  | Cross validation score 0.616\n",
      "t: 31 | Accuracy 0.676  | Cross validation score 0.620\n",
      "t: 32 | Accuracy 0.665  | Cross validation score 0.616\n",
      "t: 33 | Accuracy 0.686  | Cross validation score 0.614\n",
      "t: 34 | Accuracy 0.689  | Cross validation score 0.621\n",
      "t: 35 | Accuracy 0.684  | Cross validation score 0.618\n",
      "t: 36 | Accuracy 0.670  | Cross validation score 0.623\n",
      "t: 37 | Accuracy 0.668  | Cross validation score 0.618\n",
      "t: 38 | Accuracy 0.678  | Cross validation score 0.622\n",
      "t: 39 | Accuracy 0.665  | Cross validation score 0.614\n",
      "t: 40 | Accuracy 0.676  | Cross validation score 0.617\n",
      "t: 41 | Accuracy 0.665  | Cross validation score 0.618\n",
      "t: 42 | Accuracy 0.657  | Cross validation score 0.618\n",
      "t: 43 | Accuracy 0.657  | Cross validation score 0.616\n",
      "t: 44 | Accuracy 0.662  | Cross validation score 0.619\n",
      "t: 45 | Accuracy 0.662  | Cross validation score 0.623\n",
      "t: 46 | Accuracy 0.668  | Cross validation score 0.622\n",
      "t: 47 | Accuracy 0.668  | Cross validation score 0.624\n",
      "t: 48 | Accuracy 0.665  | Cross validation score 0.617\n",
      "t: 49 | Accuracy 0.670  | Cross validation score 0.617\n",
      "t: 50 | Accuracy 0.668  | Cross validation score 0.614\n",
      "t: 51 | Accuracy 0.662  | Cross validation score 0.616\n",
      "t: 52 | Accuracy 0.676  | Cross validation score 0.617\n",
      "t: 53 | Accuracy 0.684  | Cross validation score 0.618\n",
      "t: 54 | Accuracy 0.673  | Cross validation score 0.617\n",
      "t: 55 | Accuracy 0.686  | Cross validation score 0.620\n",
      "t: 56 | Accuracy 0.684  | Cross validation score 0.616\n",
      "t: 57 | Accuracy 0.689  | Cross validation score 0.618\n",
      "t: 58 | Accuracy 0.676  | Cross validation score 0.618\n",
      "t: 59 | Accuracy 0.670  | Cross validation score 0.620\n",
      "t: 60 | Accuracy 0.681  | Cross validation score 0.620\n",
      "t: 61 | Accuracy 0.676  | Cross validation score 0.618\n",
      "t: 62 | Accuracy 0.678  | Cross validation score 0.621\n",
      "t: 63 | Accuracy 0.684  | Cross validation score 0.621\n",
      "t: 64 | Accuracy 0.678  | Cross validation score 0.622\n",
      "t: 65 | Accuracy 0.686  | Cross validation score 0.623\n",
      "t: 66 | Accuracy 0.686  | Cross validation score 0.620\n",
      "t: 67 | Accuracy 0.681  | Cross validation score 0.624\n",
      "t: 68 | Accuracy 0.686  | Cross validation score 0.619\n",
      "t: 69 | Accuracy 0.681  | Cross validation score 0.620\n",
      "t: 70 | Accuracy 0.681  | Cross validation score 0.623\n",
      "t: 71 | Accuracy 0.684  | Cross validation score 0.623\n",
      "t: 72 | Accuracy 0.678  | Cross validation score 0.622\n",
      "t: 73 | Accuracy 0.676  | Cross validation score 0.625\n",
      "t: 74 | Accuracy 0.676  | Cross validation score 0.624\n",
      "t: 75 | Accuracy 0.681  | Cross validation score 0.626\n",
      "t: 76 | Accuracy 0.676  | Cross validation score 0.620\n",
      "t: 77 | Accuracy 0.678  | Cross validation score 0.620\n",
      "t: 78 | Accuracy 0.678  | Cross validation score 0.621\n",
      "t: 79 | Accuracy 0.681  | Cross validation score 0.622\n",
      "Best Accuracy Score: 0.6890080428954424 with 34 estimators\n",
      " Best Cross Val Score: 0.6257637314538393 with 75 estimators\n"
     ]
    }
   ],
   "source": [
    "# -> log_loss\n",
    "reset_variables_number_estimators()\n",
    "\n",
    "for t in range(_l_bound, _u_bound):\n",
    "    model = RandomForestClassifier(n_estimators=t, criterion=\"log_loss\", random_state=42)\n",
    "    model.fit(X_train, y_train)\n",
    "    y_pred = model.predict(X_val)\n",
    "    acc_score = accuracy_score(y_val, y_pred)\n",
    "    cross_vals = cross_val_score(model, train, y, cv=5).mean()\n",
    "\n",
    "    print (\"t: {:2d} | Accuracy {:.3f}\".format(t,acc_score), \" | Cross validation score {:.3f}\".format(cross_vals))\n",
    "\n",
    "    if acc_score > b_acc_score:\n",
    "        b_acc_score = acc_score\n",
    "        best_t_acc = i\n",
    "\n",
    "    if cross_vals > b_cross_score:\n",
    "        b_cross_score = cross_vals\n",
    "        best_t_cross = i\n",
    "    i += 1\n",
    "\n",
    "print(f'Best Accuracy Score: {b_acc_score} with {best_t_acc} estimators\\n Best Cross Val Score: {b_cross_score} with {best_t_cross} estimators')"
   ]
  },
  {
   "cell_type": "code",
   "execution_count": null,
   "metadata": {},
   "outputs": [
    {
     "name": "stdout",
     "output_type": "stream",
     "text": [
      "t: 20 | Accuracy 0.662  | Cross validation score 0.621\n",
      "t: 21 | Accuracy 0.665  | Cross validation score 0.620\n",
      "t: 22 | Accuracy 0.678  | Cross validation score 0.612\n",
      "t: 23 | Accuracy 0.668  | Cross validation score 0.619\n",
      "t: 24 | Accuracy 0.668  | Cross validation score 0.613\n",
      "t: 25 | Accuracy 0.670  | Cross validation score 0.619\n",
      "t: 26 | Accuracy 0.676  | Cross validation score 0.616\n",
      "t: 27 | Accuracy 0.668  | Cross validation score 0.614\n",
      "t: 28 | Accuracy 0.668  | Cross validation score 0.612\n",
      "t: 29 | Accuracy 0.670  | Cross validation score 0.616\n",
      "t: 30 | Accuracy 0.670  | Cross validation score 0.616\n",
      "t: 31 | Accuracy 0.676  | Cross validation score 0.620\n",
      "t: 32 | Accuracy 0.665  | Cross validation score 0.616\n",
      "t: 33 | Accuracy 0.686  | Cross validation score 0.614\n",
      "t: 34 | Accuracy 0.689  | Cross validation score 0.621\n",
      "t: 35 | Accuracy 0.684  | Cross validation score 0.618\n",
      "t: 36 | Accuracy 0.670  | Cross validation score 0.623\n",
      "t: 37 | Accuracy 0.668  | Cross validation score 0.618\n",
      "t: 38 | Accuracy 0.678  | Cross validation score 0.622\n",
      "t: 39 | Accuracy 0.665  | Cross validation score 0.614\n",
      "t: 40 | Accuracy 0.676  | Cross validation score 0.617\n",
      "t: 41 | Accuracy 0.665  | Cross validation score 0.618\n",
      "t: 42 | Accuracy 0.657  | Cross validation score 0.618\n",
      "t: 43 | Accuracy 0.657  | Cross validation score 0.616\n",
      "t: 44 | Accuracy 0.662  | Cross validation score 0.619\n",
      "t: 45 | Accuracy 0.662  | Cross validation score 0.623\n",
      "t: 46 | Accuracy 0.668  | Cross validation score 0.622\n",
      "t: 47 | Accuracy 0.668  | Cross validation score 0.624\n",
      "t: 48 | Accuracy 0.665  | Cross validation score 0.617\n",
      "t: 49 | Accuracy 0.670  | Cross validation score 0.617\n",
      "t: 50 | Accuracy 0.668  | Cross validation score 0.614\n",
      "t: 51 | Accuracy 0.662  | Cross validation score 0.616\n",
      "t: 52 | Accuracy 0.676  | Cross validation score 0.617\n",
      "t: 53 | Accuracy 0.684  | Cross validation score 0.618\n",
      "t: 54 | Accuracy 0.673  | Cross validation score 0.617\n",
      "t: 55 | Accuracy 0.686  | Cross validation score 0.620\n",
      "t: 56 | Accuracy 0.684  | Cross validation score 0.616\n",
      "t: 57 | Accuracy 0.689  | Cross validation score 0.618\n",
      "t: 58 | Accuracy 0.676  | Cross validation score 0.618\n",
      "t: 59 | Accuracy 0.670  | Cross validation score 0.620\n",
      "t: 60 | Accuracy 0.681  | Cross validation score 0.620\n",
      "t: 61 | Accuracy 0.676  | Cross validation score 0.618\n",
      "t: 62 | Accuracy 0.678  | Cross validation score 0.621\n",
      "t: 63 | Accuracy 0.684  | Cross validation score 0.621\n",
      "t: 64 | Accuracy 0.678  | Cross validation score 0.622\n",
      "t: 65 | Accuracy 0.686  | Cross validation score 0.623\n",
      "t: 66 | Accuracy 0.686  | Cross validation score 0.620\n",
      "t: 67 | Accuracy 0.681  | Cross validation score 0.624\n",
      "t: 68 | Accuracy 0.686  | Cross validation score 0.619\n",
      "t: 69 | Accuracy 0.681  | Cross validation score 0.620\n",
      "t: 70 | Accuracy 0.681  | Cross validation score 0.623\n",
      "t: 71 | Accuracy 0.684  | Cross validation score 0.623\n",
      "t: 72 | Accuracy 0.678  | Cross validation score 0.622\n",
      "t: 73 | Accuracy 0.676  | Cross validation score 0.625\n",
      "t: 74 | Accuracy 0.676  | Cross validation score 0.624\n",
      "t: 75 | Accuracy 0.681  | Cross validation score 0.626\n",
      "t: 76 | Accuracy 0.676  | Cross validation score 0.620\n",
      "t: 77 | Accuracy 0.678  | Cross validation score 0.620\n",
      "t: 78 | Accuracy 0.678  | Cross validation score 0.621\n",
      "t: 79 | Accuracy 0.681  | Cross validation score 0.622\n",
      "Best Accuracy Score: 0.6890080428954424 with 34 estimators\n",
      " Best Cross Val Score: 0.6257637314538393 with 75 estimators\n"
     ]
    }
   ],
   "source": [
    "# assume entropy and change the max_features to log(2)\n",
    "reset_variables_number_estimators()\n",
    "\n",
    "for t in range(_l_bound, _u_bound):\n",
    "    model = RandomForestClassifier(n_estimators=t, criterion=\"entropy\", max_features=\"log2\", random_state=42)\n",
    "    model.fit(X_train, y_train)\n",
    "    y_pred = model.predict(X_val)\n",
    "    acc_score = accuracy_score(y_val, y_pred)\n",
    "    cross_vals = cross_val_score(model, train, y, cv=5).mean()\n",
    "\n",
    "    print (\"t: {:2d} | Accuracy {:.3f}\".format(t,acc_score), \" | Cross validation score {:.3f}\".format(cross_vals))\n",
    "\n",
    "    if acc_score > b_acc_score:\n",
    "        b_acc_score = acc_score\n",
    "        best_t_acc = i\n",
    "\n",
    "    if cross_vals > b_cross_score:\n",
    "        b_cross_score = cross_vals\n",
    "        best_t_cross = i\n",
    "    i += 1\n",
    "\n",
    "print(f'Best Accuracy Score: {b_acc_score} with {best_t_acc} estimators\\n Best Cross Val Score: {b_cross_score} with {best_t_cross} estimators')"
   ]
  },
  {
   "cell_type": "code",
   "execution_count": null,
   "metadata": {},
   "outputs": [],
   "source": [
    "lower_bound = 2\n",
    "upper_bound = 100\n",
    "\n",
    "i = lower_bound\n",
    "best_depth_acc_score = -1\n",
    "best_depth_cross_score = -1\n",
    "best_depth_acc = i\n",
    "best_depth_cross = i"
   ]
  },
  {
   "cell_type": "code",
   "execution_count": null,
   "metadata": {},
   "outputs": [],
   "source": [
    "def reset_variables_depth():\n",
    "    global best_depth_acc_score, best_depth_cross_score, best_depth_acc, best_depth_cross, i\n",
    "    i = lower_bound\n",
    "    best_depth_acc_score = 0\n",
    "    best_depth_cross_score = 0\n",
    "    best_depth_acc = i\n",
    "    best_depth_cross = i"
   ]
  },
  {
   "cell_type": "code",
   "execution_count": null,
   "metadata": {},
   "outputs": [
    {
     "name": "stdout",
     "output_type": "stream",
     "text": [
      "t:  2 | Accuracy 0.633  | Cross validation score 0.607\n",
      "t:  3 | Accuracy 0.651  | Cross validation score 0.618\n",
      "t:  4 | Accuracy 0.657  | Cross validation score 0.617\n",
      "t:  5 | Accuracy 0.649  | Cross validation score 0.626\n",
      "t:  6 | Accuracy 0.651  | Cross validation score 0.624\n",
      "t:  7 | Accuracy 0.662  | Cross validation score 0.623\n",
      "t:  8 | Accuracy 0.665  | Cross validation score 0.628\n",
      "t:  9 | Accuracy 0.654  | Cross validation score 0.628\n",
      "t: 10 | Accuracy 0.660  | Cross validation score 0.627\n",
      "t: 11 | Accuracy 0.654  | Cross validation score 0.619\n",
      "t: 12 | Accuracy 0.630  | Cross validation score 0.613\n",
      "t: 13 | Accuracy 0.635  | Cross validation score 0.620\n",
      "t: 14 | Accuracy 0.651  | Cross validation score 0.614\n",
      "t: 15 | Accuracy 0.651  | Cross validation score 0.618\n",
      "t: 16 | Accuracy 0.657  | Cross validation score 0.612\n",
      "t: 17 | Accuracy 0.662  | Cross validation score 0.619\n",
      "t: 18 | Accuracy 0.673  | Cross validation score 0.622\n",
      "t: 19 | Accuracy 0.678  | Cross validation score 0.618\n",
      "t: 20 | Accuracy 0.681  | Cross validation score 0.619\n",
      "t: 21 | Accuracy 0.673  | Cross validation score 0.621\n",
      "t: 22 | Accuracy 0.676  | Cross validation score 0.619\n",
      "t: 23 | Accuracy 0.678  | Cross validation score 0.620\n",
      "t: 24 | Accuracy 0.689  | Cross validation score 0.621\n",
      "t: 25 | Accuracy 0.689  | Cross validation score 0.621\n",
      "t: 26 | Accuracy 0.689  | Cross validation score 0.621\n",
      "t: 27 | Accuracy 0.689  | Cross validation score 0.621\n",
      "t: 28 | Accuracy 0.689  | Cross validation score 0.621\n",
      "t: 29 | Accuracy 0.689  | Cross validation score 0.621\n",
      "t: 30 | Accuracy 0.689  | Cross validation score 0.621\n",
      "t: 31 | Accuracy 0.689  | Cross validation score 0.621\n",
      "t: 32 | Accuracy 0.689  | Cross validation score 0.621\n",
      "t: 33 | Accuracy 0.689  | Cross validation score 0.621\n",
      "t: 34 | Accuracy 0.689  | Cross validation score 0.621\n",
      "t: 35 | Accuracy 0.689  | Cross validation score 0.621\n",
      "t: 36 | Accuracy 0.689  | Cross validation score 0.621\n",
      "t: 37 | Accuracy 0.689  | Cross validation score 0.621\n",
      "t: 38 | Accuracy 0.689  | Cross validation score 0.621\n",
      "t: 39 | Accuracy 0.689  | Cross validation score 0.621\n",
      "t: 40 | Accuracy 0.689  | Cross validation score 0.621\n",
      "t: 41 | Accuracy 0.689  | Cross validation score 0.621\n",
      "t: 42 | Accuracy 0.689  | Cross validation score 0.621\n",
      "t: 43 | Accuracy 0.689  | Cross validation score 0.621\n",
      "t: 44 | Accuracy 0.689  | Cross validation score 0.621\n",
      "t: 45 | Accuracy 0.689  | Cross validation score 0.621\n",
      "t: 46 | Accuracy 0.689  | Cross validation score 0.621\n",
      "t: 47 | Accuracy 0.689  | Cross validation score 0.621\n",
      "t: 48 | Accuracy 0.689  | Cross validation score 0.621\n",
      "t: 49 | Accuracy 0.689  | Cross validation score 0.621\n",
      "t: 50 | Accuracy 0.689  | Cross validation score 0.621\n",
      "t: 51 | Accuracy 0.689  | Cross validation score 0.621\n",
      "t: 52 | Accuracy 0.689  | Cross validation score 0.621\n",
      "t: 53 | Accuracy 0.689  | Cross validation score 0.621\n",
      "t: 54 | Accuracy 0.689  | Cross validation score 0.621\n",
      "t: 55 | Accuracy 0.689  | Cross validation score 0.621\n",
      "t: 56 | Accuracy 0.689  | Cross validation score 0.621\n",
      "t: 57 | Accuracy 0.689  | Cross validation score 0.621\n",
      "t: 58 | Accuracy 0.689  | Cross validation score 0.621\n",
      "t: 59 | Accuracy 0.689  | Cross validation score 0.621\n",
      "t: 60 | Accuracy 0.689  | Cross validation score 0.621\n",
      "t: 61 | Accuracy 0.689  | Cross validation score 0.621\n",
      "t: 62 | Accuracy 0.689  | Cross validation score 0.621\n",
      "t: 63 | Accuracy 0.689  | Cross validation score 0.621\n",
      "t: 64 | Accuracy 0.689  | Cross validation score 0.621\n",
      "t: 65 | Accuracy 0.689  | Cross validation score 0.621\n",
      "t: 66 | Accuracy 0.689  | Cross validation score 0.621\n",
      "t: 67 | Accuracy 0.689  | Cross validation score 0.621\n",
      "t: 68 | Accuracy 0.689  | Cross validation score 0.621\n",
      "t: 69 | Accuracy 0.689  | Cross validation score 0.621\n",
      "t: 70 | Accuracy 0.689  | Cross validation score 0.621\n",
      "t: 71 | Accuracy 0.689  | Cross validation score 0.621\n",
      "t: 72 | Accuracy 0.689  | Cross validation score 0.621\n",
      "t: 73 | Accuracy 0.689  | Cross validation score 0.621\n",
      "t: 74 | Accuracy 0.689  | Cross validation score 0.621\n",
      "t: 75 | Accuracy 0.689  | Cross validation score 0.621\n",
      "t: 76 | Accuracy 0.689  | Cross validation score 0.621\n",
      "t: 77 | Accuracy 0.689  | Cross validation score 0.621\n",
      "t: 78 | Accuracy 0.689  | Cross validation score 0.621\n",
      "t: 79 | Accuracy 0.689  | Cross validation score 0.621\n",
      "t: 80 | Accuracy 0.689  | Cross validation score 0.621\n",
      "t: 81 | Accuracy 0.689  | Cross validation score 0.621\n",
      "t: 82 | Accuracy 0.689  | Cross validation score 0.621\n",
      "t: 83 | Accuracy 0.689  | Cross validation score 0.621\n",
      "t: 84 | Accuracy 0.689  | Cross validation score 0.621\n",
      "t: 85 | Accuracy 0.689  | Cross validation score 0.621\n",
      "t: 86 | Accuracy 0.689  | Cross validation score 0.621\n",
      "t: 87 | Accuracy 0.689  | Cross validation score 0.621\n",
      "t: 88 | Accuracy 0.689  | Cross validation score 0.621\n",
      "t: 89 | Accuracy 0.689  | Cross validation score 0.621\n",
      "t: 90 | Accuracy 0.689  | Cross validation score 0.621\n",
      "t: 91 | Accuracy 0.689  | Cross validation score 0.621\n",
      "t: 92 | Accuracy 0.689  | Cross validation score 0.621\n",
      "t: 93 | Accuracy 0.689  | Cross validation score 0.621\n",
      "t: 94 | Accuracy 0.689  | Cross validation score 0.621\n",
      "t: 95 | Accuracy 0.689  | Cross validation score 0.621\n",
      "t: 96 | Accuracy 0.689  | Cross validation score 0.621\n",
      "t: 97 | Accuracy 0.689  | Cross validation score 0.621\n",
      "t: 98 | Accuracy 0.689  | Cross validation score 0.621\n",
      "t: 99 | Accuracy 0.689  | Cross validation score 0.621\n",
      "Best Accuracy Score: 0.6890080428954424 with 34 estimators\n",
      " Best Cross Val Score: 0.6257637314538393 with 75 estimators\n"
     ]
    }
   ],
   "source": [
    "# entropy and log_loss are a bit better at least in the top value scores. assume entropy\n",
    "# log2 or sqrt seems equals. I will use default sqrt\n",
    "# I will use entropy and I will define the specific number of estimators (last best_t_acc computed) \n",
    "# such that I can try to tune other paramethers (max_depth)\n",
    "reset_variables_depth()\n",
    "\n",
    "for t in range(lower_bound, upper_bound):\n",
    "    model = RandomForestClassifier(n_estimators = best_t_acc, max_depth = t, criterion=\"entropy\", random_state=42)\n",
    "    model.fit(X_train, y_train)\n",
    "    y_pred = model.predict(X_val)\n",
    "    acc_score = accuracy_score(y_val, y_pred)\n",
    "    cross_vals = cross_val_score(model, train, y, cv=5).mean()\n",
    "\n",
    "    print (\"t: {:2d} | Accuracy {:.3f}\".format(t, acc_score), \" | Cross validation score {:.3f}\".format(cross_vals))\n",
    "\n",
    "    if acc_score > best_depth_acc_score:\n",
    "        best_depth_acc_score = acc_score\n",
    "        best_depth_acc = i\n",
    "\n",
    "    if cross_vals > best_depth_cross_score:\n",
    "        best_depth_cross_score = cross_vals\n",
    "        best_depth_cross = i\n",
    "    i += 1\n",
    "\n",
    "print(f'Best Accuracy Score: {b_acc_score} with {best_t_acc} estimators\\n Best Cross Val Score: {b_cross_score} with {best_t_cross} estimators')"
   ]
  },
  {
   "cell_type": "code",
   "execution_count": null,
   "metadata": {},
   "outputs": [
    {
     "name": "stdout",
     "output_type": "stream",
     "text": [
      "Accuracy 0.660  | Cross validation score 0.611\n"
     ]
    }
   ],
   "source": [
    "# last step class weight\n",
    "# let's try to use best_t_acc, best_depth_acc, entropy and sqrt adding to it the class_weight paramether (balanced)\n",
    "\n",
    "model = RandomForestClassifier(n_estimators = best_t_acc, max_depth = best_depth_acc, criterion=\"entropy\", class_weight=\"balanced\", random_state=42)\n",
    "model.fit(X_train, y_train)\n",
    "y_pred = model.predict(X_val)\n",
    "acc_score = accuracy_score(y_val, y_pred)\n",
    "cross_vals = cross_val_score(model, train, y, cv=5).mean()\n",
    "\n",
    "print (\"Accuracy {:.3f}\".format(acc_score), \" | Cross validation score {:.3f}\".format(cross_vals)) "
   ]
  },
  {
   "cell_type": "code",
   "execution_count": null,
   "metadata": {},
   "outputs": [
    {
     "ename": "KeyboardInterrupt",
     "evalue": "",
     "output_type": "error",
     "traceback": [
      "\u001b[1;31m---------------------------------------------------------------------------\u001b[0m",
      "\u001b[1;31mKeyboardInterrupt\u001b[0m                         Traceback (most recent call last)",
      "Cell \u001b[1;32mIn[32], line 18\u001b[0m\n\u001b[0;32m     16\u001b[0m     model_rf \u001b[38;5;241m=\u001b[39m RandomForestClassifier(n_estimators\u001b[38;5;241m=\u001b[39mt, max_depth\u001b[38;5;241m=\u001b[39mbest_depth_acc, criterion\u001b[38;5;241m=\u001b[39m\u001b[38;5;124m\"\u001b[39m\u001b[38;5;124mentropy\u001b[39m\u001b[38;5;124m\"\u001b[39m, random_state\u001b[38;5;241m=\u001b[39m\u001b[38;5;241m42\u001b[39m)\n\u001b[0;32m     17\u001b[0m     model_rf\u001b[38;5;241m.\u001b[39mfit(X_resampled, y_resampled)\n\u001b[1;32m---> 18\u001b[0m     y_pred \u001b[38;5;241m=\u001b[39m \u001b[43mmodel_rf\u001b[49m\u001b[38;5;241;43m.\u001b[39;49m\u001b[43mpredict\u001b[49m\u001b[43m(\u001b[49m\u001b[43mX_train\u001b[49m\u001b[43m)\u001b[49m\n\u001b[0;32m     19\u001b[0m     y_preds \u001b[38;5;241m=\u001b[39m np\u001b[38;5;241m.\u001b[39mcolumn_stack( [y_preds, y_pred] ) \u001b[38;5;28;01mif\u001b[39;00m y_preds\u001b[38;5;241m.\u001b[39msize \u001b[38;5;28;01melse\u001b[39;00m y_pred\n\u001b[0;32m     21\u001b[0m dt_bias     \u001b[38;5;241m=\u001b[39m (y_train\u001b[38;5;241m-\u001b[39mnp\u001b[38;5;241m.\u001b[39mmean(y_preds,axis\u001b[38;5;241m=\u001b[39m\u001b[38;5;241m1\u001b[39m))\u001b[38;5;241m*\u001b[39m\u001b[38;5;241m*\u001b[39m\u001b[38;5;241m2\u001b[39m\n",
      "File \u001b[1;32mc:\\Users\\alesz\\AppData\\Local\\Programs\\Python\\Python312\\Lib\\site-packages\\sklearn\\ensemble\\_forest.py:904\u001b[0m, in \u001b[0;36mForestClassifier.predict\u001b[1;34m(self, X)\u001b[0m\n\u001b[0;32m    883\u001b[0m \u001b[38;5;28;01mdef\u001b[39;00m \u001b[38;5;21mpredict\u001b[39m(\u001b[38;5;28mself\u001b[39m, X):\n\u001b[0;32m    884\u001b[0m \u001b[38;5;250m    \u001b[39m\u001b[38;5;124;03m\"\"\"\u001b[39;00m\n\u001b[0;32m    885\u001b[0m \u001b[38;5;124;03m    Predict class for X.\u001b[39;00m\n\u001b[0;32m    886\u001b[0m \n\u001b[1;32m   (...)\u001b[0m\n\u001b[0;32m    902\u001b[0m \u001b[38;5;124;03m        The predicted classes.\u001b[39;00m\n\u001b[0;32m    903\u001b[0m \u001b[38;5;124;03m    \"\"\"\u001b[39;00m\n\u001b[1;32m--> 904\u001b[0m     proba \u001b[38;5;241m=\u001b[39m \u001b[38;5;28;43mself\u001b[39;49m\u001b[38;5;241;43m.\u001b[39;49m\u001b[43mpredict_proba\u001b[49m\u001b[43m(\u001b[49m\u001b[43mX\u001b[49m\u001b[43m)\u001b[49m\n\u001b[0;32m    906\u001b[0m     \u001b[38;5;28;01mif\u001b[39;00m \u001b[38;5;28mself\u001b[39m\u001b[38;5;241m.\u001b[39mn_outputs_ \u001b[38;5;241m==\u001b[39m \u001b[38;5;241m1\u001b[39m:\n\u001b[0;32m    907\u001b[0m         \u001b[38;5;28;01mreturn\u001b[39;00m \u001b[38;5;28mself\u001b[39m\u001b[38;5;241m.\u001b[39mclasses_\u001b[38;5;241m.\u001b[39mtake(np\u001b[38;5;241m.\u001b[39margmax(proba, axis\u001b[38;5;241m=\u001b[39m\u001b[38;5;241m1\u001b[39m), axis\u001b[38;5;241m=\u001b[39m\u001b[38;5;241m0\u001b[39m)\n",
      "File \u001b[1;32mc:\\Users\\alesz\\AppData\\Local\\Programs\\Python\\Python312\\Lib\\site-packages\\sklearn\\ensemble\\_forest.py:957\u001b[0m, in \u001b[0;36mForestClassifier.predict_proba\u001b[1;34m(self, X)\u001b[0m\n\u001b[0;32m    952\u001b[0m all_proba \u001b[38;5;241m=\u001b[39m [\n\u001b[0;32m    953\u001b[0m     np\u001b[38;5;241m.\u001b[39mzeros((X\u001b[38;5;241m.\u001b[39mshape[\u001b[38;5;241m0\u001b[39m], j), dtype\u001b[38;5;241m=\u001b[39mnp\u001b[38;5;241m.\u001b[39mfloat64)\n\u001b[0;32m    954\u001b[0m     \u001b[38;5;28;01mfor\u001b[39;00m j \u001b[38;5;129;01min\u001b[39;00m np\u001b[38;5;241m.\u001b[39matleast_1d(\u001b[38;5;28mself\u001b[39m\u001b[38;5;241m.\u001b[39mn_classes_)\n\u001b[0;32m    955\u001b[0m ]\n\u001b[0;32m    956\u001b[0m lock \u001b[38;5;241m=\u001b[39m threading\u001b[38;5;241m.\u001b[39mLock()\n\u001b[1;32m--> 957\u001b[0m \u001b[43mParallel\u001b[49m\u001b[43m(\u001b[49m\u001b[43mn_jobs\u001b[49m\u001b[38;5;241;43m=\u001b[39;49m\u001b[43mn_jobs\u001b[49m\u001b[43m,\u001b[49m\u001b[43m \u001b[49m\u001b[43mverbose\u001b[49m\u001b[38;5;241;43m=\u001b[39;49m\u001b[38;5;28;43mself\u001b[39;49m\u001b[38;5;241;43m.\u001b[39;49m\u001b[43mverbose\u001b[49m\u001b[43m,\u001b[49m\u001b[43m \u001b[49m\u001b[43mrequire\u001b[49m\u001b[38;5;241;43m=\u001b[39;49m\u001b[38;5;124;43m\"\u001b[39;49m\u001b[38;5;124;43msharedmem\u001b[39;49m\u001b[38;5;124;43m\"\u001b[39;49m\u001b[43m)\u001b[49m\u001b[43m(\u001b[49m\n\u001b[0;32m    958\u001b[0m \u001b[43m    \u001b[49m\u001b[43mdelayed\u001b[49m\u001b[43m(\u001b[49m\u001b[43m_accumulate_prediction\u001b[49m\u001b[43m)\u001b[49m\u001b[43m(\u001b[49m\u001b[43me\u001b[49m\u001b[38;5;241;43m.\u001b[39;49m\u001b[43mpredict_proba\u001b[49m\u001b[43m,\u001b[49m\u001b[43m \u001b[49m\u001b[43mX\u001b[49m\u001b[43m,\u001b[49m\u001b[43m \u001b[49m\u001b[43mall_proba\u001b[49m\u001b[43m,\u001b[49m\u001b[43m \u001b[49m\u001b[43mlock\u001b[49m\u001b[43m)\u001b[49m\n\u001b[0;32m    959\u001b[0m \u001b[43m    \u001b[49m\u001b[38;5;28;43;01mfor\u001b[39;49;00m\u001b[43m \u001b[49m\u001b[43me\u001b[49m\u001b[43m \u001b[49m\u001b[38;5;129;43;01min\u001b[39;49;00m\u001b[43m \u001b[49m\u001b[38;5;28;43mself\u001b[39;49m\u001b[38;5;241;43m.\u001b[39;49m\u001b[43mestimators_\u001b[49m\n\u001b[0;32m    960\u001b[0m \u001b[43m\u001b[49m\u001b[43m)\u001b[49m\n\u001b[0;32m    962\u001b[0m \u001b[38;5;28;01mfor\u001b[39;00m proba \u001b[38;5;129;01min\u001b[39;00m all_proba:\n\u001b[0;32m    963\u001b[0m     proba \u001b[38;5;241m/\u001b[39m\u001b[38;5;241m=\u001b[39m \u001b[38;5;28mlen\u001b[39m(\u001b[38;5;28mself\u001b[39m\u001b[38;5;241m.\u001b[39mestimators_)\n",
      "File \u001b[1;32mc:\\Users\\alesz\\AppData\\Local\\Programs\\Python\\Python312\\Lib\\site-packages\\sklearn\\utils\\parallel.py:77\u001b[0m, in \u001b[0;36mParallel.__call__\u001b[1;34m(self, iterable)\u001b[0m\n\u001b[0;32m     72\u001b[0m config \u001b[38;5;241m=\u001b[39m get_config()\n\u001b[0;32m     73\u001b[0m iterable_with_config \u001b[38;5;241m=\u001b[39m (\n\u001b[0;32m     74\u001b[0m     (_with_config(delayed_func, config), args, kwargs)\n\u001b[0;32m     75\u001b[0m     \u001b[38;5;28;01mfor\u001b[39;00m delayed_func, args, kwargs \u001b[38;5;129;01min\u001b[39;00m iterable\n\u001b[0;32m     76\u001b[0m )\n\u001b[1;32m---> 77\u001b[0m \u001b[38;5;28;01mreturn\u001b[39;00m \u001b[38;5;28;43msuper\u001b[39;49m\u001b[43m(\u001b[49m\u001b[43m)\u001b[49m\u001b[38;5;241;43m.\u001b[39;49m\u001b[38;5;21;43m__call__\u001b[39;49m\u001b[43m(\u001b[49m\u001b[43miterable_with_config\u001b[49m\u001b[43m)\u001b[49m\n",
      "File \u001b[1;32mc:\\Users\\alesz\\AppData\\Local\\Programs\\Python\\Python312\\Lib\\site-packages\\joblib\\parallel.py:1918\u001b[0m, in \u001b[0;36mParallel.__call__\u001b[1;34m(self, iterable)\u001b[0m\n\u001b[0;32m   1916\u001b[0m     output \u001b[38;5;241m=\u001b[39m \u001b[38;5;28mself\u001b[39m\u001b[38;5;241m.\u001b[39m_get_sequential_output(iterable)\n\u001b[0;32m   1917\u001b[0m     \u001b[38;5;28mnext\u001b[39m(output)\n\u001b[1;32m-> 1918\u001b[0m     \u001b[38;5;28;01mreturn\u001b[39;00m output \u001b[38;5;28;01mif\u001b[39;00m \u001b[38;5;28mself\u001b[39m\u001b[38;5;241m.\u001b[39mreturn_generator \u001b[38;5;28;01melse\u001b[39;00m \u001b[38;5;28;43mlist\u001b[39;49m\u001b[43m(\u001b[49m\u001b[43moutput\u001b[49m\u001b[43m)\u001b[49m\n\u001b[0;32m   1920\u001b[0m \u001b[38;5;66;03m# Let's create an ID that uniquely identifies the current call. If the\u001b[39;00m\n\u001b[0;32m   1921\u001b[0m \u001b[38;5;66;03m# call is interrupted early and that the same instance is immediately\u001b[39;00m\n\u001b[0;32m   1922\u001b[0m \u001b[38;5;66;03m# re-used, this id will be used to prevent workers that were\u001b[39;00m\n\u001b[0;32m   1923\u001b[0m \u001b[38;5;66;03m# concurrently finalizing a task from the previous call to run the\u001b[39;00m\n\u001b[0;32m   1924\u001b[0m \u001b[38;5;66;03m# callback.\u001b[39;00m\n\u001b[0;32m   1925\u001b[0m \u001b[38;5;28;01mwith\u001b[39;00m \u001b[38;5;28mself\u001b[39m\u001b[38;5;241m.\u001b[39m_lock:\n",
      "File \u001b[1;32mc:\\Users\\alesz\\AppData\\Local\\Programs\\Python\\Python312\\Lib\\site-packages\\joblib\\parallel.py:1847\u001b[0m, in \u001b[0;36mParallel._get_sequential_output\u001b[1;34m(self, iterable)\u001b[0m\n\u001b[0;32m   1845\u001b[0m \u001b[38;5;28mself\u001b[39m\u001b[38;5;241m.\u001b[39mn_dispatched_batches \u001b[38;5;241m+\u001b[39m\u001b[38;5;241m=\u001b[39m \u001b[38;5;241m1\u001b[39m\n\u001b[0;32m   1846\u001b[0m \u001b[38;5;28mself\u001b[39m\u001b[38;5;241m.\u001b[39mn_dispatched_tasks \u001b[38;5;241m+\u001b[39m\u001b[38;5;241m=\u001b[39m \u001b[38;5;241m1\u001b[39m\n\u001b[1;32m-> 1847\u001b[0m res \u001b[38;5;241m=\u001b[39m \u001b[43mfunc\u001b[49m\u001b[43m(\u001b[49m\u001b[38;5;241;43m*\u001b[39;49m\u001b[43margs\u001b[49m\u001b[43m,\u001b[49m\u001b[43m \u001b[49m\u001b[38;5;241;43m*\u001b[39;49m\u001b[38;5;241;43m*\u001b[39;49m\u001b[43mkwargs\u001b[49m\u001b[43m)\u001b[49m\n\u001b[0;32m   1848\u001b[0m \u001b[38;5;28mself\u001b[39m\u001b[38;5;241m.\u001b[39mn_completed_tasks \u001b[38;5;241m+\u001b[39m\u001b[38;5;241m=\u001b[39m \u001b[38;5;241m1\u001b[39m\n\u001b[0;32m   1849\u001b[0m \u001b[38;5;28mself\u001b[39m\u001b[38;5;241m.\u001b[39mprint_progress()\n",
      "File \u001b[1;32mc:\\Users\\alesz\\AppData\\Local\\Programs\\Python\\Python312\\Lib\\site-packages\\sklearn\\utils\\parallel.py:139\u001b[0m, in \u001b[0;36m_FuncWrapper.__call__\u001b[1;34m(self, *args, **kwargs)\u001b[0m\n\u001b[0;32m    137\u001b[0m     config \u001b[38;5;241m=\u001b[39m {}\n\u001b[0;32m    138\u001b[0m \u001b[38;5;28;01mwith\u001b[39;00m config_context(\u001b[38;5;241m*\u001b[39m\u001b[38;5;241m*\u001b[39mconfig):\n\u001b[1;32m--> 139\u001b[0m     \u001b[38;5;28;01mreturn\u001b[39;00m \u001b[38;5;28;43mself\u001b[39;49m\u001b[38;5;241;43m.\u001b[39;49m\u001b[43mfunction\u001b[49m\u001b[43m(\u001b[49m\u001b[38;5;241;43m*\u001b[39;49m\u001b[43margs\u001b[49m\u001b[43m,\u001b[49m\u001b[43m \u001b[49m\u001b[38;5;241;43m*\u001b[39;49m\u001b[38;5;241;43m*\u001b[39;49m\u001b[43mkwargs\u001b[49m\u001b[43m)\u001b[49m\n",
      "File \u001b[1;32mc:\\Users\\alesz\\AppData\\Local\\Programs\\Python\\Python312\\Lib\\site-packages\\sklearn\\ensemble\\_forest.py:731\u001b[0m, in \u001b[0;36m_accumulate_prediction\u001b[1;34m(predict, X, out, lock)\u001b[0m\n\u001b[0;32m    724\u001b[0m \u001b[38;5;28;01mdef\u001b[39;00m \u001b[38;5;21m_accumulate_prediction\u001b[39m(predict, X, out, lock):\n\u001b[0;32m    725\u001b[0m \u001b[38;5;250m    \u001b[39m\u001b[38;5;124;03m\"\"\"\u001b[39;00m\n\u001b[0;32m    726\u001b[0m \u001b[38;5;124;03m    This is a utility function for joblib's Parallel.\u001b[39;00m\n\u001b[0;32m    727\u001b[0m \n\u001b[0;32m    728\u001b[0m \u001b[38;5;124;03m    It can't go locally in ForestClassifier or ForestRegressor, because joblib\u001b[39;00m\n\u001b[0;32m    729\u001b[0m \u001b[38;5;124;03m    complains that it cannot pickle it when placed there.\u001b[39;00m\n\u001b[0;32m    730\u001b[0m \u001b[38;5;124;03m    \"\"\"\u001b[39;00m\n\u001b[1;32m--> 731\u001b[0m     prediction \u001b[38;5;241m=\u001b[39m \u001b[43mpredict\u001b[49m\u001b[43m(\u001b[49m\u001b[43mX\u001b[49m\u001b[43m,\u001b[49m\u001b[43m \u001b[49m\u001b[43mcheck_input\u001b[49m\u001b[38;5;241;43m=\u001b[39;49m\u001b[38;5;28;43;01mFalse\u001b[39;49;00m\u001b[43m)\u001b[49m\n\u001b[0;32m    732\u001b[0m     \u001b[38;5;28;01mwith\u001b[39;00m lock:\n\u001b[0;32m    733\u001b[0m         \u001b[38;5;28;01mif\u001b[39;00m \u001b[38;5;28mlen\u001b[39m(out) \u001b[38;5;241m==\u001b[39m \u001b[38;5;241m1\u001b[39m:\n",
      "File \u001b[1;32mc:\\Users\\alesz\\AppData\\Local\\Programs\\Python\\Python312\\Lib\\site-packages\\sklearn\\tree\\_classes.py:1058\u001b[0m, in \u001b[0;36mDecisionTreeClassifier.predict_proba\u001b[1;34m(self, X, check_input)\u001b[0m\n\u001b[0;32m   1056\u001b[0m check_is_fitted(\u001b[38;5;28mself\u001b[39m)\n\u001b[0;32m   1057\u001b[0m X \u001b[38;5;241m=\u001b[39m \u001b[38;5;28mself\u001b[39m\u001b[38;5;241m.\u001b[39m_validate_X_predict(X, check_input)\n\u001b[1;32m-> 1058\u001b[0m proba \u001b[38;5;241m=\u001b[39m \u001b[38;5;28;43mself\u001b[39;49m\u001b[38;5;241;43m.\u001b[39;49m\u001b[43mtree_\u001b[49m\u001b[38;5;241;43m.\u001b[39;49m\u001b[43mpredict\u001b[49m\u001b[43m(\u001b[49m\u001b[43mX\u001b[49m\u001b[43m)\u001b[49m\n\u001b[0;32m   1060\u001b[0m \u001b[38;5;28;01mif\u001b[39;00m \u001b[38;5;28mself\u001b[39m\u001b[38;5;241m.\u001b[39mn_outputs_ \u001b[38;5;241m==\u001b[39m \u001b[38;5;241m1\u001b[39m:\n\u001b[0;32m   1061\u001b[0m     \u001b[38;5;28;01mreturn\u001b[39;00m proba[:, : \u001b[38;5;28mself\u001b[39m\u001b[38;5;241m.\u001b[39mn_classes_]\n",
      "\u001b[1;31mKeyboardInterrupt\u001b[0m: "
     ]
    }
   ],
   "source": [
    "# the model perform worst with class_weight balanced so Im going delete it\n",
    "# let's check Bias-Variance tradeoff\n",
    "\n",
    "from matplotlib import pyplot as plt\n",
    "from sklearn.utils import resample\n",
    "\n",
    "N_TESTS = 50\n",
    "stats = np.array([])\n",
    "top_classification_range = range(1, best_t_acc + 10)\n",
    "\n",
    "\n",
    "for t in top_classification_range:\n",
    "    y_preds = np.array([])\n",
    "    for i in range(N_TESTS):\n",
    "        X_resampled, y_resampled = resample(X_train, y_train, n_samples=int(0.8*len(y_train)) )\n",
    "        model_rf = RandomForestClassifier(n_estimators=t, max_depth=best_depth_acc, criterion=\"entropy\", random_state=42)\n",
    "        model_rf.fit(X_resampled, y_resampled)\n",
    "        y_pred = model_rf.predict(X_train)\n",
    "        y_preds = np.column_stack( [y_preds, y_pred] ) if y_preds.size else y_pred\n",
    "\n",
    "    dt_bias     = (y_train-np.mean(y_preds,axis=1))**2\n",
    "    dt_variance = np.var(y_preds,axis=1)\n",
    "    dt_error    = (y_preds - y_train.to_numpy().reshape(-1, 1))**2 #i need the reshape to make it a column vector. To use the 'reshape()' method\n",
    "                                                                   #i need the object to be a numpy array. Actually it is a Pandas Series so i convert it \n",
    "\n",
    "    run_stats = np.array([dt_error.mean(), dt_bias.mean(), dt_variance.mean()])\n",
    "    stats = np.column_stack([stats, run_stats]) if stats.size else run_stats\n",
    "\n",
    "fig, ax = plt.subplots(figsize=(6,6))\n",
    "ax.plot(top_classification_range, stats[0,:], 'o:', label='Error')\n",
    "ax.plot(top_classification_range, stats[1,:], 'o:', label='Bias$^2$')\n",
    "ax.plot(top_classification_range, stats[2,:], 'o:', label='Variance')\n",
    "ax.set_title(\"Bias/Variance Decomposition\")\n",
    "ax.set_xlabel('Number of Trees')\n",
    "ax.set_ylabel('Error')\n",
    "ax.grid()\n",
    "ax.legend()"
   ]
  },
  {
   "cell_type": "code",
   "execution_count": null,
   "metadata": {},
   "outputs": [],
   "source": [
    "# let's try Boosting algorithm with Decision Trees as base estimator but partially grown and in the same number "
   ]
  },
  {
   "cell_type": "code",
   "execution_count": null,
   "metadata": {},
   "outputs": [],
   "source": [
    "# check Bias-Variance tradeoff"
   ]
  },
  {
   "cell_type": "code",
   "execution_count": null,
   "metadata": {},
   "outputs": [],
   "source": [
    "# conclusion model and Gain from base model"
   ]
  },
  {
   "cell_type": "code",
   "execution_count": null,
   "metadata": {},
   "outputs": [
    {
     "data": {
      "text/plain": [
       "' \\n# import libraries\\nfrom sklearn.model_selection import train_test_split, cross_val_score\\nfrom sklearn.metrics import accuracy_score\\nfrom sklearn.ensemble import RandomForestClassifier\\n'"
      ]
     },
     "execution_count": 20,
     "metadata": {},
     "output_type": "execute_result"
    }
   ],
   "source": [
    "\"\"\" \n",
    "# import libraries\n",
    "from sklearn.model_selection import train_test_split, cross_val_score\n",
    "from sklearn.metrics import accuracy_score\n",
    "from sklearn.ensemble import RandomForestClassifier\n",
    "\"\"\""
   ]
  },
  {
   "cell_type": "code",
   "execution_count": null,
   "metadata": {},
   "outputs": [
    {
     "data": {
      "text/plain": [
       "' \\nscore = []\\n\\nlower_bound = 20\\nupper_bound = 100\\ncross_valid = 4\\n'"
      ]
     },
     "execution_count": 21,
     "metadata": {},
     "output_type": "execute_result"
    }
   ],
   "source": [
    "\"\"\" \n",
    "score = []\n",
    "\n",
    "lower_bound = 20\n",
    "upper_bound = 100\n",
    "cross_valid = 4\n",
    "\"\"\""
   ]
  },
  {
   "cell_type": "code",
   "execution_count": null,
   "metadata": {},
   "outputs": [
    {
     "data": {
      "text/plain": [
       "'\\n#parameter tuning (number of trees) and model training\\nlast_acc = 0\\nbest_trees = 0\\n\\nX_train, X_val, y_train, y_val = train_test_split(train, y, test_size=0.25, random_state=0)\\n\\nfor t in range(lower_bound, upper_bound):\\n    model = RandomForestClassifier(n_estimators=t, bootstrap=False)\\n    model.fit(X_train, y_train)\\n    y_pred = model.predict(X_val)\\n    acc.append(accuracy_score(y_val, y_pred))\\n    score.append(cross_val_score(model, train, y, cv=cross_valid).mean())\\n\\n    if acc[-1] > last_acc:\\n        last_acc = acc[-1]\\n        best_trees = t\\n    \\n    print (\"t: {:2d} | Accuracy {:.3f}\".format(t,acc[-1]), \" | Cross validation score {:.3f}\".format(score[-1]))\\n    '"
      ]
     },
     "execution_count": 22,
     "metadata": {},
     "output_type": "execute_result"
    }
   ],
   "source": [
    "\"\"\"\n",
    "#parameter tuning (number of trees) and model training\n",
    "last_acc = 0\n",
    "best_trees = 0\n",
    "\n",
    "X_train, X_val, y_train, y_val = train_test_split(train, y, test_size=0.25, random_state=0)\n",
    "\n",
    "for t in range(lower_bound, upper_bound):\n",
    "    model = RandomForestClassifier(n_estimators=t, bootstrap=False)\n",
    "    model.fit(X_train, y_train)\n",
    "    y_pred = model.predict(X_val)\n",
    "    acc.append(accuracy_score(y_val, y_pred))\n",
    "    score.append(cross_val_score(model, train, y, cv=cross_valid).mean())\n",
    "\n",
    "    if acc[-1] > last_acc:\n",
    "        last_acc = acc[-1]\n",
    "        best_trees = t\n",
    "    \n",
    "    print (\"t: {:2d} | Accuracy {:.3f}\".format(t,acc[-1]), \" | Cross validation score {:.3f}\".format(score[-1]))\n",
    "    \"\"\""
   ]
  },
  {
   "cell_type": "code",
   "execution_count": null,
   "metadata": {},
   "outputs": [
    {
     "data": {
      "text/plain": [
       "'\\ndef result_analysis(accuracy, val_score):\\n    best_acc         = max(accuracy)     \\n    best_score       = max(val_score)    \\n    return best_acc, best_score\\n\\n\\n#print(\"Best accuracy: \", best_acc, \"with n_estimators = \", best_acc_param) \\n#print(\"Best score: \",  max(score), \"with n_estimators = \", best_score_param)\\n'"
      ]
     },
     "execution_count": 23,
     "metadata": {},
     "output_type": "execute_result"
    }
   ],
   "source": [
    "\"\"\"\n",
    "def result_analysis(accuracy, val_score):\n",
    "    best_acc         = max(accuracy)     \n",
    "    best_score       = max(val_score)    \n",
    "    return best_acc, best_score\n",
    "\n",
    "\n",
    "#print(\"Best accuracy: \", best_acc, \"with n_estimators = \", best_acc_param) \n",
    "#print(\"Best score: \",  max(score), \"with n_estimators = \", best_score_param)\n",
    "\"\"\""
   ]
  },
  {
   "cell_type": "code",
   "execution_count": null,
   "metadata": {},
   "outputs": [
    {
     "data": {
      "text/plain": [
       "'\\nresults = result_analysis(acc, score)\\nprint(\"Best accuracy: \", results[0], \"with n_estimators = \", best_trees) \\nprint(\"Best score: \",  results[1])\\n'"
      ]
     },
     "execution_count": 24,
     "metadata": {},
     "output_type": "execute_result"
    }
   ],
   "source": [
    "\"\"\"\n",
    "results = result_analysis(acc, score)\n",
    "print(\"Best accuracy: \", results[0], \"with n_estimators = \", best_trees) \n",
    "print(\"Best score: \",  results[1])\n",
    "\"\"\""
   ]
  },
  {
   "cell_type": "markdown",
   "metadata": {},
   "source": [
    " - Dai risultati di questo modello basilare procedo ad effettuare migliorie. Mi ricavo la feature importance e droppo le feature meno importanti per la mia classificazione"
   ]
  },
  {
   "cell_type": "code",
   "execution_count": null,
   "metadata": {},
   "outputs": [
    {
     "name": "stdout",
     "output_type": "stream",
     "text": [
      "Feature Importance:  [np.float64(0.12141852622387254), np.float64(0.11592947038310687), np.float64(0.10050859193282949), np.float64(0.08587237176858932), np.float64(0.07004040254359832), np.float64(0.06971342680528847), np.float64(0.06953017404094941), np.float64(0.06633422570118104), np.float64(0.06385310115200413), np.float64(0.06300206726814725), np.float64(0.06158082839507726), np.float64(0.05718325001073825), np.float64(0.05503356377461771)]\n"
     ]
    },
    {
     "data": {
      "image/png": "[encoded data removed]",
      "text/plain": [
       "<Figure size 1600x1000 with 1 Axes>"
      ]
     },
     "metadata": {},
     "output_type": "display_data"
    }
   ],
   "source": [
    "%matplotlib inline\n",
    "import matplotlib.pyplot as plt\n",
    "\n",
    "print(\"Feature Importance: \", sorted(model.feature_importances_)[::-1])\n",
    "\n",
    "fig, ax = plt.subplots(figsize=(16, 10))\n",
    "ax.bar(range(0, X_train.shape[1]), sorted(model.feature_importances_)[::-1])\n",
    "ax.set_title(\"Feature Importances\")\n",
    "ax.set_xticks(range(X_train.shape[1]))\n",
    "ax.set_xticklabels(X_train.columns[np.argsort(model.feature_importances_)[::-1]], rotation=90)\n",
    "plt.show()"
   ]
  },
  {
   "cell_type": "code",
   "execution_count": null,
   "metadata": {},
   "outputs": [
    {
     "ename": "NameError",
     "evalue": "name 'best_trees' is not defined",
     "output_type": "error",
     "traceback": [
      "\u001b[1;31m---------------------------------------------------------------------------\u001b[0m",
      "\u001b[1;31mNameError\u001b[0m                                 Traceback (most recent call last)",
      "Cell \u001b[1;32mIn[26], line 4\u001b[0m\n\u001b[0;32m      1\u001b[0m \u001b[38;5;66;03m#drop the least important features\u001b[39;00m\n\u001b[0;32m      2\u001b[0m \u001b[38;5;28;01mfrom\u001b[39;00m \u001b[38;5;21;01msklearn\u001b[39;00m\u001b[38;5;21;01m.\u001b[39;00m\u001b[38;5;21;01mfeature_selection\u001b[39;00m \u001b[38;5;28;01mimport\u001b[39;00m RFECV\n\u001b[1;32m----> 4\u001b[0m rf_small \u001b[38;5;241m=\u001b[39m RandomForestClassifier(n_estimators\u001b[38;5;241m=\u001b[39m\u001b[43mbest_trees\u001b[49m)\n\u001b[0;32m      6\u001b[0m selector \u001b[38;5;241m=\u001b[39m RFECV(rf_small, step\u001b[38;5;241m=\u001b[39m\u001b[38;5;241m1\u001b[39m, cv\u001b[38;5;241m=\u001b[39mcross_valid,\n\u001b[0;32m      7\u001b[0m                  scoring\u001b[38;5;241m=\u001b[39m\u001b[38;5;124m'\u001b[39m\u001b[38;5;124maccuracy\u001b[39m\u001b[38;5;124m'\u001b[39m,        \u001b[38;5;66;03m# https://scikit-learn.org/stable/modules/model_evaluation.html#scoring-parameter\u001b[39;00m\n\u001b[0;32m      8\u001b[0m                  min_features_to_select\u001b[38;5;241m=\u001b[39m\u001b[38;5;241m1\u001b[39m)\n\u001b[0;32m     10\u001b[0m selector\u001b[38;5;241m.\u001b[39mfit(X_train,y_train);\n",
      "\u001b[1;31mNameError\u001b[0m: name 'best_trees' is not defined"
     ]
    }
   ],
   "source": [
    "#drop the least important features\n",
    "from sklearn.feature_selection import RFECV\n",
    "\n",
    "rf_small = RandomForestClassifier(n_estimators=best_trees)\n",
    "\n",
    "selector = RFECV(rf_small, step=1, cv=cross_valid,\n",
    "                 scoring='accuracy',        # https://scikit-learn.org/stable/modules/model_evaluation.html#scoring-parameter\n",
    "                 min_features_to_select=1)\n",
    "\n",
    "selector.fit(X_train,y_train);"
   ]
  },
  {
   "cell_type": "code",
   "execution_count": null,
   "metadata": {},
   "outputs": [
    {
     "name": "stdout",
     "output_type": "stream",
     "text": [
      "Number of selected features: 12\n",
      "Selected features: Index(['Basic_Demos-Age', 'CGAS-CGAS_Score', 'Physical-Height',\n",
      "       'Physical-Weight', 'Physical-Diastolic_BP', 'Physical-HeartRate',\n",
      "       'Physical-Systolic_BP', 'FGC-FGC_CU', 'FGC-FGC_PU', 'FGC-FGC_SRR',\n",
      "       'BIA-BIA_DEE', 'SDS-SDS_Total_Raw'],\n",
      "      dtype='object')\n"
     ]
    }
   ],
   "source": [
    "print (f\"Number of selected features: {selector.n_features_}\")\n",
    "print (f\"Selected features: {X_train.columns[selector.support_]}\")"
   ]
  },
  {
   "cell_type": "code",
   "execution_count": null,
   "metadata": {},
   "outputs": [
    {
     "data": {
      "image/png": "[encoded data removed]",
      "text/plain": [
       "<Figure size 1600x1000 with 1 Axes>"
      ]
     },
     "metadata": {},
     "output_type": "display_data"
    }
   ],
   "source": [
    "fig, ax = plt.subplots(figsize=(16, 10))\n",
    "ax.bar(range(0, X_train.shape[1]), sorted(selector.ranking_))\n",
    "ax.set_title(\"Feature Rank (N.B: Lower is better)\")\n",
    "ax.set_xticks(range(X_train.shape[1]))\n",
    "ax.set_xticklabels(X_train.columns[np.argsort(selector.ranking_)], rotation=90)\n",
    "ax.set_ylabel(\"Rank\")\n",
    "plt.show()"
   ]
  },
  {
   "cell_type": "markdown",
   "metadata": {},
   "source": [
    " - Creo un nuovo dataset che uso poi per la creazione del modello"
   ]
  },
  {
   "cell_type": "code",
   "execution_count": null,
   "metadata": {},
   "outputs": [
    {
     "data": {
      "text/html": [
       "<div>\n",
       "<style scoped>\n",
       "    .dataframe tbody tr th:only-of-type {\n",
       "        vertical-align: middle;\n",
       "    }\n",
       "\n",
       "    .dataframe tbody tr th {\n",
       "        vertical-align: top;\n",
       "    }\n",
       "\n",
       "    .dataframe thead th {\n",
       "        text-align: right;\n",
       "    }\n",
       "</style>\n",
       "<table border=\"1\" class=\"dataframe\">\n",
       "  <thead>\n",
       "    <tr style=\"text-align: right;\">\n",
       "      <th></th>\n",
       "      <th>Basic_Demos-Age</th>\n",
       "      <th>CGAS-CGAS_Score</th>\n",
       "      <th>Physical-Height</th>\n",
       "      <th>Physical-Weight</th>\n",
       "      <th>Physical-Diastolic_BP</th>\n",
       "      <th>Physical-HeartRate</th>\n",
       "      <th>Physical-Systolic_BP</th>\n",
       "      <th>FGC-FGC_CU</th>\n",
       "      <th>FGC-FGC_PU</th>\n",
       "      <th>FGC-FGC_SRR</th>\n",
       "      <th>BIA-BIA_DEE</th>\n",
       "      <th>SDS-SDS_Total_Raw</th>\n",
       "    </tr>\n",
       "  </thead>\n",
       "  <tbody>\n",
       "    <tr>\n",
       "      <th>0</th>\n",
       "      <td>5.0</td>\n",
       "      <td>51.0</td>\n",
       "      <td>46.0</td>\n",
       "      <td>51.0</td>\n",
       "      <td>67.0</td>\n",
       "      <td>85.0</td>\n",
       "      <td>110.0</td>\n",
       "      <td>0.00</td>\n",
       "      <td>0.0</td>\n",
       "      <td>6.00</td>\n",
       "      <td>1492.0</td>\n",
       "      <td>41.0</td>\n",
       "    </tr>\n",
       "    <tr>\n",
       "      <th>1</th>\n",
       "      <td>9.0</td>\n",
       "      <td>62.0</td>\n",
       "      <td>48.0</td>\n",
       "      <td>46.0</td>\n",
       "      <td>75.0</td>\n",
       "      <td>70.0</td>\n",
       "      <td>122.0</td>\n",
       "      <td>3.00</td>\n",
       "      <td>5.0</td>\n",
       "      <td>13.75</td>\n",
       "      <td>1499.0</td>\n",
       "      <td>46.0</td>\n",
       "    </tr>\n",
       "    <tr>\n",
       "      <th>2</th>\n",
       "      <td>9.0</td>\n",
       "      <td>71.0</td>\n",
       "      <td>56.0</td>\n",
       "      <td>82.0</td>\n",
       "      <td>60.0</td>\n",
       "      <td>97.0</td>\n",
       "      <td>117.0</td>\n",
       "      <td>22.50</td>\n",
       "      <td>5.0</td>\n",
       "      <td>7.00</td>\n",
       "      <td>1923.0</td>\n",
       "      <td>31.0</td>\n",
       "    </tr>\n",
       "    <tr>\n",
       "      <th>3</th>\n",
       "      <td>13.0</td>\n",
       "      <td>50.0</td>\n",
       "      <td>60.0</td>\n",
       "      <td>112.0</td>\n",
       "      <td>60.0</td>\n",
       "      <td>73.0</td>\n",
       "      <td>102.0</td>\n",
       "      <td>12.00</td>\n",
       "      <td>6.0</td>\n",
       "      <td>13.75</td>\n",
       "      <td>1996.0</td>\n",
       "      <td>40.0</td>\n",
       "    </tr>\n",
       "    <tr>\n",
       "      <th>4</th>\n",
       "      <td>10.0</td>\n",
       "      <td>65.0</td>\n",
       "      <td>55.0</td>\n",
       "      <td>85.0</td>\n",
       "      <td>123.0</td>\n",
       "      <td>83.0</td>\n",
       "      <td>163.0</td>\n",
       "      <td>11.25</td>\n",
       "      <td>2.0</td>\n",
       "      <td>13.75</td>\n",
       "      <td>1817.0</td>\n",
       "      <td>27.0</td>\n",
       "    </tr>\n",
       "  </tbody>\n",
       "</table>\n",
       "</div>"
      ],
      "text/plain": [
       "   Basic_Demos-Age  CGAS-CGAS_Score  Physical-Height  Physical-Weight  \\\n",
       "0              5.0             51.0             46.0             51.0   \n",
       "1              9.0             62.0             48.0             46.0   \n",
       "2              9.0             71.0             56.0             82.0   \n",
       "3             13.0             50.0             60.0            112.0   \n",
       "4             10.0             65.0             55.0             85.0   \n",
       "\n",
       "   Physical-Diastolic_BP  Physical-HeartRate  Physical-Systolic_BP  \\\n",
       "0                   67.0                85.0                 110.0   \n",
       "1                   75.0                70.0                 122.0   \n",
       "2                   60.0                97.0                 117.0   \n",
       "3                   60.0                73.0                 102.0   \n",
       "4                  123.0                83.0                 163.0   \n",
       "\n",
       "   FGC-FGC_CU  FGC-FGC_PU  FGC-FGC_SRR  BIA-BIA_DEE  SDS-SDS_Total_Raw  \n",
       "0        0.00         0.0         6.00       1492.0               41.0  \n",
       "1        3.00         5.0        13.75       1499.0               46.0  \n",
       "2       22.50         5.0         7.00       1923.0               31.0  \n",
       "3       12.00         6.0        13.75       1996.0               40.0  \n",
       "4       11.25         2.0        13.75       1817.0               27.0  "
      ]
     },
     "execution_count": 12,
     "metadata": {},
     "output_type": "execute_result"
    }
   ],
   "source": [
    "smaller_train = train[X_train.columns[selector.support_]]\n",
    "smaller_train.head()"
   ]
  },
  {
   "cell_type": "markdown",
   "metadata": {},
   "source": [
    " - Ridotto ora il numero di features, tento ora un nuovo stimatore con gli stessi parametri (already tuned) e agisco attivando _bootstrap_"
   ]
  },
  {
   "cell_type": "code",
   "execution_count": null,
   "metadata": {},
   "outputs": [],
   "source": [
    "# variable initialization\n",
    "acc_v2   = []\n",
    "score_v2 = []"
   ]
  },
  {
   "cell_type": "code",
   "execution_count": null,
   "metadata": {},
   "outputs": [
    {
     "name": "stdout",
     "output_type": "stream",
     "text": [
      "t: 20 | Accuracy 0.670  | Cross validation score 0.612\n",
      "t: 21 | Accuracy 0.670  | Cross validation score 0.612\n",
      "t: 22 | Accuracy 0.670  | Cross validation score 0.612\n",
      "t: 23 | Accuracy 0.670  | Cross validation score 0.612\n",
      "t: 24 | Accuracy 0.670  | Cross validation score 0.612\n",
      "t: 25 | Accuracy 0.670  | Cross validation score 0.612\n",
      "t: 26 | Accuracy 0.670  | Cross validation score 0.612\n",
      "t: 27 | Accuracy 0.670  | Cross validation score 0.612\n",
      "t: 28 | Accuracy 0.670  | Cross validation score 0.612\n",
      "t: 29 | Accuracy 0.670  | Cross validation score 0.612\n",
      "t: 30 | Accuracy 0.670  | Cross validation score 0.612\n",
      "t: 31 | Accuracy 0.670  | Cross validation score 0.612\n",
      "t: 32 | Accuracy 0.670  | Cross validation score 0.612\n"
     ]
    },
    {
     "ename": "KeyboardInterrupt",
     "evalue": "",
     "output_type": "error",
     "traceback": [
      "\u001b[1;31m---------------------------------------------------------------------------\u001b[0m",
      "\u001b[1;31mKeyboardInterrupt\u001b[0m                         Traceback (most recent call last)",
      "Cell \u001b[1;32mIn[14], line 12\u001b[0m\n\u001b[0;32m     10\u001b[0m y_pred \u001b[38;5;241m=\u001b[39m model\u001b[38;5;241m.\u001b[39mpredict(X_val)\n\u001b[0;32m     11\u001b[0m acc_v2\u001b[38;5;241m.\u001b[39mappend(accuracy_score(y_val, y_pred))\n\u001b[1;32m---> 12\u001b[0m score_v2\u001b[38;5;241m.\u001b[39mappend(\u001b[43mcross_val_score\u001b[49m\u001b[43m(\u001b[49m\u001b[43mmodel\u001b[49m\u001b[43m,\u001b[49m\u001b[43m \u001b[49m\u001b[43msmaller_train\u001b[49m\u001b[43m,\u001b[49m\u001b[43m \u001b[49m\u001b[43my\u001b[49m\u001b[43m,\u001b[49m\u001b[43m \u001b[49m\u001b[43mcv\u001b[49m\u001b[38;5;241;43m=\u001b[39;49m\u001b[43mcross_valid\u001b[49m\u001b[43m)\u001b[49m\u001b[38;5;241m.\u001b[39mmean())\n\u001b[0;32m     14\u001b[0m \u001b[38;5;28;01mif\u001b[39;00m acc_v2[\u001b[38;5;241m-\u001b[39m\u001b[38;5;241m1\u001b[39m] \u001b[38;5;241m>\u001b[39m last_acc:\n\u001b[0;32m     15\u001b[0m     last_acc \u001b[38;5;241m=\u001b[39m acc_v2[\u001b[38;5;241m-\u001b[39m\u001b[38;5;241m1\u001b[39m]\n",
      "File \u001b[1;32mc:\\Python312\\Lib\\site-packages\\sklearn\\utils\\_param_validation.py:213\u001b[0m, in \u001b[0;36mvalidate_params.<locals>.decorator.<locals>.wrapper\u001b[1;34m(*args, **kwargs)\u001b[0m\n\u001b[0;32m    207\u001b[0m \u001b[38;5;28;01mtry\u001b[39;00m:\n\u001b[0;32m    208\u001b[0m     \u001b[38;5;28;01mwith\u001b[39;00m config_context(\n\u001b[0;32m    209\u001b[0m         skip_parameter_validation\u001b[38;5;241m=\u001b[39m(\n\u001b[0;32m    210\u001b[0m             prefer_skip_nested_validation \u001b[38;5;129;01mor\u001b[39;00m global_skip_validation\n\u001b[0;32m    211\u001b[0m         )\n\u001b[0;32m    212\u001b[0m     ):\n\u001b[1;32m--> 213\u001b[0m         \u001b[38;5;28;01mreturn\u001b[39;00m \u001b[43mfunc\u001b[49m\u001b[43m(\u001b[49m\u001b[38;5;241;43m*\u001b[39;49m\u001b[43margs\u001b[49m\u001b[43m,\u001b[49m\u001b[43m \u001b[49m\u001b[38;5;241;43m*\u001b[39;49m\u001b[38;5;241;43m*\u001b[39;49m\u001b[43mkwargs\u001b[49m\u001b[43m)\u001b[49m\n\u001b[0;32m    214\u001b[0m \u001b[38;5;28;01mexcept\u001b[39;00m InvalidParameterError \u001b[38;5;28;01mas\u001b[39;00m e:\n\u001b[0;32m    215\u001b[0m     \u001b[38;5;66;03m# When the function is just a wrapper around an estimator, we allow\u001b[39;00m\n\u001b[0;32m    216\u001b[0m     \u001b[38;5;66;03m# the function to delegate validation to the estimator, but we replace\u001b[39;00m\n\u001b[0;32m    217\u001b[0m     \u001b[38;5;66;03m# the name of the estimator by the name of the function in the error\u001b[39;00m\n\u001b[0;32m    218\u001b[0m     \u001b[38;5;66;03m# message to avoid confusion.\u001b[39;00m\n\u001b[0;32m    219\u001b[0m     msg \u001b[38;5;241m=\u001b[39m re\u001b[38;5;241m.\u001b[39msub(\n\u001b[0;32m    220\u001b[0m         \u001b[38;5;124mr\u001b[39m\u001b[38;5;124m\"\u001b[39m\u001b[38;5;124mparameter of \u001b[39m\u001b[38;5;124m\\\u001b[39m\u001b[38;5;124mw+ must be\u001b[39m\u001b[38;5;124m\"\u001b[39m,\n\u001b[0;32m    221\u001b[0m         \u001b[38;5;124mf\u001b[39m\u001b[38;5;124m\"\u001b[39m\u001b[38;5;124mparameter of \u001b[39m\u001b[38;5;132;01m{\u001b[39;00mfunc\u001b[38;5;241m.\u001b[39m\u001b[38;5;18m__qualname__\u001b[39m\u001b[38;5;132;01m}\u001b[39;00m\u001b[38;5;124m must be\u001b[39m\u001b[38;5;124m\"\u001b[39m,\n\u001b[0;32m    222\u001b[0m         \u001b[38;5;28mstr\u001b[39m(e),\n\u001b[0;32m    223\u001b[0m     )\n",
      "File \u001b[1;32mc:\\Python312\\Lib\\site-packages\\sklearn\\model_selection\\_validation.py:712\u001b[0m, in \u001b[0;36mcross_val_score\u001b[1;34m(estimator, X, y, groups, scoring, cv, n_jobs, verbose, fit_params, params, pre_dispatch, error_score)\u001b[0m\n\u001b[0;32m    709\u001b[0m \u001b[38;5;66;03m# To ensure multimetric format is not supported\u001b[39;00m\n\u001b[0;32m    710\u001b[0m scorer \u001b[38;5;241m=\u001b[39m check_scoring(estimator, scoring\u001b[38;5;241m=\u001b[39mscoring)\n\u001b[1;32m--> 712\u001b[0m cv_results \u001b[38;5;241m=\u001b[39m \u001b[43mcross_validate\u001b[49m\u001b[43m(\u001b[49m\n\u001b[0;32m    713\u001b[0m \u001b[43m    \u001b[49m\u001b[43mestimator\u001b[49m\u001b[38;5;241;43m=\u001b[39;49m\u001b[43mestimator\u001b[49m\u001b[43m,\u001b[49m\n\u001b[0;32m    714\u001b[0m \u001b[43m    \u001b[49m\u001b[43mX\u001b[49m\u001b[38;5;241;43m=\u001b[39;49m\u001b[43mX\u001b[49m\u001b[43m,\u001b[49m\n\u001b[0;32m    715\u001b[0m \u001b[43m    \u001b[49m\u001b[43my\u001b[49m\u001b[38;5;241;43m=\u001b[39;49m\u001b[43my\u001b[49m\u001b[43m,\u001b[49m\n\u001b[0;32m    716\u001b[0m \u001b[43m    \u001b[49m\u001b[43mgroups\u001b[49m\u001b[38;5;241;43m=\u001b[39;49m\u001b[43mgroups\u001b[49m\u001b[43m,\u001b[49m\n\u001b[0;32m    717\u001b[0m \u001b[43m    \u001b[49m\u001b[43mscoring\u001b[49m\u001b[38;5;241;43m=\u001b[39;49m\u001b[43m{\u001b[49m\u001b[38;5;124;43m\"\u001b[39;49m\u001b[38;5;124;43mscore\u001b[39;49m\u001b[38;5;124;43m\"\u001b[39;49m\u001b[43m:\u001b[49m\u001b[43m \u001b[49m\u001b[43mscorer\u001b[49m\u001b[43m}\u001b[49m\u001b[43m,\u001b[49m\n\u001b[0;32m    718\u001b[0m \u001b[43m    \u001b[49m\u001b[43mcv\u001b[49m\u001b[38;5;241;43m=\u001b[39;49m\u001b[43mcv\u001b[49m\u001b[43m,\u001b[49m\n\u001b[0;32m    719\u001b[0m \u001b[43m    \u001b[49m\u001b[43mn_jobs\u001b[49m\u001b[38;5;241;43m=\u001b[39;49m\u001b[43mn_jobs\u001b[49m\u001b[43m,\u001b[49m\n\u001b[0;32m    720\u001b[0m \u001b[43m    \u001b[49m\u001b[43mverbose\u001b[49m\u001b[38;5;241;43m=\u001b[39;49m\u001b[43mverbose\u001b[49m\u001b[43m,\u001b[49m\n\u001b[0;32m    721\u001b[0m \u001b[43m    \u001b[49m\u001b[43mfit_params\u001b[49m\u001b[38;5;241;43m=\u001b[39;49m\u001b[43mfit_params\u001b[49m\u001b[43m,\u001b[49m\n\u001b[0;32m    722\u001b[0m \u001b[43m    \u001b[49m\u001b[43mparams\u001b[49m\u001b[38;5;241;43m=\u001b[39;49m\u001b[43mparams\u001b[49m\u001b[43m,\u001b[49m\n\u001b[0;32m    723\u001b[0m \u001b[43m    \u001b[49m\u001b[43mpre_dispatch\u001b[49m\u001b[38;5;241;43m=\u001b[39;49m\u001b[43mpre_dispatch\u001b[49m\u001b[43m,\u001b[49m\n\u001b[0;32m    724\u001b[0m \u001b[43m    \u001b[49m\u001b[43merror_score\u001b[49m\u001b[38;5;241;43m=\u001b[39;49m\u001b[43merror_score\u001b[49m\u001b[43m,\u001b[49m\n\u001b[0;32m    725\u001b[0m \u001b[43m\u001b[49m\u001b[43m)\u001b[49m\n\u001b[0;32m    726\u001b[0m \u001b[38;5;28;01mreturn\u001b[39;00m cv_results[\u001b[38;5;124m\"\u001b[39m\u001b[38;5;124mtest_score\u001b[39m\u001b[38;5;124m\"\u001b[39m]\n",
      "File \u001b[1;32mc:\\Python312\\Lib\\site-packages\\sklearn\\utils\\_param_validation.py:213\u001b[0m, in \u001b[0;36mvalidate_params.<locals>.decorator.<locals>.wrapper\u001b[1;34m(*args, **kwargs)\u001b[0m\n\u001b[0;32m    207\u001b[0m \u001b[38;5;28;01mtry\u001b[39;00m:\n\u001b[0;32m    208\u001b[0m     \u001b[38;5;28;01mwith\u001b[39;00m config_context(\n\u001b[0;32m    209\u001b[0m         skip_parameter_validation\u001b[38;5;241m=\u001b[39m(\n\u001b[0;32m    210\u001b[0m             prefer_skip_nested_validation \u001b[38;5;129;01mor\u001b[39;00m global_skip_validation\n\u001b[0;32m    211\u001b[0m         )\n\u001b[0;32m    212\u001b[0m     ):\n\u001b[1;32m--> 213\u001b[0m         \u001b[38;5;28;01mreturn\u001b[39;00m \u001b[43mfunc\u001b[49m\u001b[43m(\u001b[49m\u001b[38;5;241;43m*\u001b[39;49m\u001b[43margs\u001b[49m\u001b[43m,\u001b[49m\u001b[43m \u001b[49m\u001b[38;5;241;43m*\u001b[39;49m\u001b[38;5;241;43m*\u001b[39;49m\u001b[43mkwargs\u001b[49m\u001b[43m)\u001b[49m\n\u001b[0;32m    214\u001b[0m \u001b[38;5;28;01mexcept\u001b[39;00m InvalidParameterError \u001b[38;5;28;01mas\u001b[39;00m e:\n\u001b[0;32m    215\u001b[0m     \u001b[38;5;66;03m# When the function is just a wrapper around an estimator, we allow\u001b[39;00m\n\u001b[0;32m    216\u001b[0m     \u001b[38;5;66;03m# the function to delegate validation to the estimator, but we replace\u001b[39;00m\n\u001b[0;32m    217\u001b[0m     \u001b[38;5;66;03m# the name of the estimator by the name of the function in the error\u001b[39;00m\n\u001b[0;32m    218\u001b[0m     \u001b[38;5;66;03m# message to avoid confusion.\u001b[39;00m\n\u001b[0;32m    219\u001b[0m     msg \u001b[38;5;241m=\u001b[39m re\u001b[38;5;241m.\u001b[39msub(\n\u001b[0;32m    220\u001b[0m         \u001b[38;5;124mr\u001b[39m\u001b[38;5;124m\"\u001b[39m\u001b[38;5;124mparameter of \u001b[39m\u001b[38;5;124m\\\u001b[39m\u001b[38;5;124mw+ must be\u001b[39m\u001b[38;5;124m\"\u001b[39m,\n\u001b[0;32m    221\u001b[0m         \u001b[38;5;124mf\u001b[39m\u001b[38;5;124m\"\u001b[39m\u001b[38;5;124mparameter of \u001b[39m\u001b[38;5;132;01m{\u001b[39;00mfunc\u001b[38;5;241m.\u001b[39m\u001b[38;5;18m__qualname__\u001b[39m\u001b[38;5;132;01m}\u001b[39;00m\u001b[38;5;124m must be\u001b[39m\u001b[38;5;124m\"\u001b[39m,\n\u001b[0;32m    222\u001b[0m         \u001b[38;5;28mstr\u001b[39m(e),\n\u001b[0;32m    223\u001b[0m     )\n",
      "File \u001b[1;32mc:\\Python312\\Lib\\site-packages\\sklearn\\model_selection\\_validation.py:423\u001b[0m, in \u001b[0;36mcross_validate\u001b[1;34m(estimator, X, y, groups, scoring, cv, n_jobs, verbose, fit_params, params, pre_dispatch, return_train_score, return_estimator, return_indices, error_score)\u001b[0m\n\u001b[0;32m    420\u001b[0m \u001b[38;5;66;03m# We clone the estimator to make sure that all the folds are\u001b[39;00m\n\u001b[0;32m    421\u001b[0m \u001b[38;5;66;03m# independent, and that it is pickle-able.\u001b[39;00m\n\u001b[0;32m    422\u001b[0m parallel \u001b[38;5;241m=\u001b[39m Parallel(n_jobs\u001b[38;5;241m=\u001b[39mn_jobs, verbose\u001b[38;5;241m=\u001b[39mverbose, pre_dispatch\u001b[38;5;241m=\u001b[39mpre_dispatch)\n\u001b[1;32m--> 423\u001b[0m results \u001b[38;5;241m=\u001b[39m \u001b[43mparallel\u001b[49m\u001b[43m(\u001b[49m\n\u001b[0;32m    424\u001b[0m \u001b[43m    \u001b[49m\u001b[43mdelayed\u001b[49m\u001b[43m(\u001b[49m\u001b[43m_fit_and_score\u001b[49m\u001b[43m)\u001b[49m\u001b[43m(\u001b[49m\n\u001b[0;32m    425\u001b[0m \u001b[43m        \u001b[49m\u001b[43mclone\u001b[49m\u001b[43m(\u001b[49m\u001b[43mestimator\u001b[49m\u001b[43m)\u001b[49m\u001b[43m,\u001b[49m\n\u001b[0;32m    426\u001b[0m \u001b[43m        \u001b[49m\u001b[43mX\u001b[49m\u001b[43m,\u001b[49m\n\u001b[0;32m    427\u001b[0m \u001b[43m        \u001b[49m\u001b[43my\u001b[49m\u001b[43m,\u001b[49m\n\u001b[0;32m    428\u001b[0m \u001b[43m        \u001b[49m\u001b[43mscorer\u001b[49m\u001b[38;5;241;43m=\u001b[39;49m\u001b[43mscorers\u001b[49m\u001b[43m,\u001b[49m\n\u001b[0;32m    429\u001b[0m \u001b[43m        \u001b[49m\u001b[43mtrain\u001b[49m\u001b[38;5;241;43m=\u001b[39;49m\u001b[43mtrain\u001b[49m\u001b[43m,\u001b[49m\n\u001b[0;32m    430\u001b[0m \u001b[43m        \u001b[49m\u001b[43mtest\u001b[49m\u001b[38;5;241;43m=\u001b[39;49m\u001b[43mtest\u001b[49m\u001b[43m,\u001b[49m\n\u001b[0;32m    431\u001b[0m \u001b[43m        \u001b[49m\u001b[43mverbose\u001b[49m\u001b[38;5;241;43m=\u001b[39;49m\u001b[43mverbose\u001b[49m\u001b[43m,\u001b[49m\n\u001b[0;32m    432\u001b[0m \u001b[43m        \u001b[49m\u001b[43mparameters\u001b[49m\u001b[38;5;241;43m=\u001b[39;49m\u001b[38;5;28;43;01mNone\u001b[39;49;00m\u001b[43m,\u001b[49m\n\u001b[0;32m    433\u001b[0m \u001b[43m        \u001b[49m\u001b[43mfit_params\u001b[49m\u001b[38;5;241;43m=\u001b[39;49m\u001b[43mrouted_params\u001b[49m\u001b[38;5;241;43m.\u001b[39;49m\u001b[43mestimator\u001b[49m\u001b[38;5;241;43m.\u001b[39;49m\u001b[43mfit\u001b[49m\u001b[43m,\u001b[49m\n\u001b[0;32m    434\u001b[0m \u001b[43m        \u001b[49m\u001b[43mscore_params\u001b[49m\u001b[38;5;241;43m=\u001b[39;49m\u001b[43mrouted_params\u001b[49m\u001b[38;5;241;43m.\u001b[39;49m\u001b[43mscorer\u001b[49m\u001b[38;5;241;43m.\u001b[39;49m\u001b[43mscore\u001b[49m\u001b[43m,\u001b[49m\n\u001b[0;32m    435\u001b[0m \u001b[43m        \u001b[49m\u001b[43mreturn_train_score\u001b[49m\u001b[38;5;241;43m=\u001b[39;49m\u001b[43mreturn_train_score\u001b[49m\u001b[43m,\u001b[49m\n\u001b[0;32m    436\u001b[0m \u001b[43m        \u001b[49m\u001b[43mreturn_times\u001b[49m\u001b[38;5;241;43m=\u001b[39;49m\u001b[38;5;28;43;01mTrue\u001b[39;49;00m\u001b[43m,\u001b[49m\n\u001b[0;32m    437\u001b[0m \u001b[43m        \u001b[49m\u001b[43mreturn_estimator\u001b[49m\u001b[38;5;241;43m=\u001b[39;49m\u001b[43mreturn_estimator\u001b[49m\u001b[43m,\u001b[49m\n\u001b[0;32m    438\u001b[0m \u001b[43m        \u001b[49m\u001b[43merror_score\u001b[49m\u001b[38;5;241;43m=\u001b[39;49m\u001b[43merror_score\u001b[49m\u001b[43m,\u001b[49m\n\u001b[0;32m    439\u001b[0m \u001b[43m    \u001b[49m\u001b[43m)\u001b[49m\n\u001b[0;32m    440\u001b[0m \u001b[43m    \u001b[49m\u001b[38;5;28;43;01mfor\u001b[39;49;00m\u001b[43m \u001b[49m\u001b[43mtrain\u001b[49m\u001b[43m,\u001b[49m\u001b[43m \u001b[49m\u001b[43mtest\u001b[49m\u001b[43m \u001b[49m\u001b[38;5;129;43;01min\u001b[39;49;00m\u001b[43m \u001b[49m\u001b[43mindices\u001b[49m\n\u001b[0;32m    441\u001b[0m \u001b[43m\u001b[49m\u001b[43m)\u001b[49m\n\u001b[0;32m    443\u001b[0m _warn_or_raise_about_fit_failures(results, error_score)\n\u001b[0;32m    445\u001b[0m \u001b[38;5;66;03m# For callable scoring, the return type is only know after calling. If the\u001b[39;00m\n\u001b[0;32m    446\u001b[0m \u001b[38;5;66;03m# return type is a dictionary, the error scores can now be inserted with\u001b[39;00m\n\u001b[0;32m    447\u001b[0m \u001b[38;5;66;03m# the correct key.\u001b[39;00m\n",
      "File \u001b[1;32mc:\\Python312\\Lib\\site-packages\\sklearn\\utils\\parallel.py:74\u001b[0m, in \u001b[0;36mParallel.__call__\u001b[1;34m(self, iterable)\u001b[0m\n\u001b[0;32m     69\u001b[0m config \u001b[38;5;241m=\u001b[39m get_config()\n\u001b[0;32m     70\u001b[0m iterable_with_config \u001b[38;5;241m=\u001b[39m (\n\u001b[0;32m     71\u001b[0m     (_with_config(delayed_func, config), args, kwargs)\n\u001b[0;32m     72\u001b[0m     \u001b[38;5;28;01mfor\u001b[39;00m delayed_func, args, kwargs \u001b[38;5;129;01min\u001b[39;00m iterable\n\u001b[0;32m     73\u001b[0m )\n\u001b[1;32m---> 74\u001b[0m \u001b[38;5;28;01mreturn\u001b[39;00m \u001b[38;5;28;43msuper\u001b[39;49m\u001b[43m(\u001b[49m\u001b[43m)\u001b[49m\u001b[38;5;241;43m.\u001b[39;49m\u001b[38;5;21;43m__call__\u001b[39;49m\u001b[43m(\u001b[49m\u001b[43miterable_with_config\u001b[49m\u001b[43m)\u001b[49m\n",
      "File \u001b[1;32mc:\\Python312\\Lib\\site-packages\\joblib\\parallel.py:1918\u001b[0m, in \u001b[0;36mParallel.__call__\u001b[1;34m(self, iterable)\u001b[0m\n\u001b[0;32m   1916\u001b[0m     output \u001b[38;5;241m=\u001b[39m \u001b[38;5;28mself\u001b[39m\u001b[38;5;241m.\u001b[39m_get_sequential_output(iterable)\n\u001b[0;32m   1917\u001b[0m     \u001b[38;5;28mnext\u001b[39m(output)\n\u001b[1;32m-> 1918\u001b[0m     \u001b[38;5;28;01mreturn\u001b[39;00m output \u001b[38;5;28;01mif\u001b[39;00m \u001b[38;5;28mself\u001b[39m\u001b[38;5;241m.\u001b[39mreturn_generator \u001b[38;5;28;01melse\u001b[39;00m \u001b[38;5;28;43mlist\u001b[39;49m\u001b[43m(\u001b[49m\u001b[43moutput\u001b[49m\u001b[43m)\u001b[49m\n\u001b[0;32m   1920\u001b[0m \u001b[38;5;66;03m# Let's create an ID that uniquely identifies the current call. If the\u001b[39;00m\n\u001b[0;32m   1921\u001b[0m \u001b[38;5;66;03m# call is interrupted early and that the same instance is immediately\u001b[39;00m\n\u001b[0;32m   1922\u001b[0m \u001b[38;5;66;03m# re-used, this id will be used to prevent workers that were\u001b[39;00m\n\u001b[0;32m   1923\u001b[0m \u001b[38;5;66;03m# concurrently finalizing a task from the previous call to run the\u001b[39;00m\n\u001b[0;32m   1924\u001b[0m \u001b[38;5;66;03m# callback.\u001b[39;00m\n\u001b[0;32m   1925\u001b[0m \u001b[38;5;28;01mwith\u001b[39;00m \u001b[38;5;28mself\u001b[39m\u001b[38;5;241m.\u001b[39m_lock:\n",
      "File \u001b[1;32mc:\\Python312\\Lib\\site-packages\\joblib\\parallel.py:1847\u001b[0m, in \u001b[0;36mParallel._get_sequential_output\u001b[1;34m(self, iterable)\u001b[0m\n\u001b[0;32m   1845\u001b[0m \u001b[38;5;28mself\u001b[39m\u001b[38;5;241m.\u001b[39mn_dispatched_batches \u001b[38;5;241m+\u001b[39m\u001b[38;5;241m=\u001b[39m \u001b[38;5;241m1\u001b[39m\n\u001b[0;32m   1846\u001b[0m \u001b[38;5;28mself\u001b[39m\u001b[38;5;241m.\u001b[39mn_dispatched_tasks \u001b[38;5;241m+\u001b[39m\u001b[38;5;241m=\u001b[39m \u001b[38;5;241m1\u001b[39m\n\u001b[1;32m-> 1847\u001b[0m res \u001b[38;5;241m=\u001b[39m \u001b[43mfunc\u001b[49m\u001b[43m(\u001b[49m\u001b[38;5;241;43m*\u001b[39;49m\u001b[43margs\u001b[49m\u001b[43m,\u001b[49m\u001b[43m \u001b[49m\u001b[38;5;241;43m*\u001b[39;49m\u001b[38;5;241;43m*\u001b[39;49m\u001b[43mkwargs\u001b[49m\u001b[43m)\u001b[49m\n\u001b[0;32m   1848\u001b[0m \u001b[38;5;28mself\u001b[39m\u001b[38;5;241m.\u001b[39mn_completed_tasks \u001b[38;5;241m+\u001b[39m\u001b[38;5;241m=\u001b[39m \u001b[38;5;241m1\u001b[39m\n\u001b[0;32m   1849\u001b[0m \u001b[38;5;28mself\u001b[39m\u001b[38;5;241m.\u001b[39mprint_progress()\n",
      "File \u001b[1;32mc:\\Python312\\Lib\\site-packages\\sklearn\\utils\\parallel.py:136\u001b[0m, in \u001b[0;36m_FuncWrapper.__call__\u001b[1;34m(self, *args, **kwargs)\u001b[0m\n\u001b[0;32m    134\u001b[0m     config \u001b[38;5;241m=\u001b[39m {}\n\u001b[0;32m    135\u001b[0m \u001b[38;5;28;01mwith\u001b[39;00m config_context(\u001b[38;5;241m*\u001b[39m\u001b[38;5;241m*\u001b[39mconfig):\n\u001b[1;32m--> 136\u001b[0m     \u001b[38;5;28;01mreturn\u001b[39;00m \u001b[38;5;28;43mself\u001b[39;49m\u001b[38;5;241;43m.\u001b[39;49m\u001b[43mfunction\u001b[49m\u001b[43m(\u001b[49m\u001b[38;5;241;43m*\u001b[39;49m\u001b[43margs\u001b[49m\u001b[43m,\u001b[49m\u001b[43m \u001b[49m\u001b[38;5;241;43m*\u001b[39;49m\u001b[38;5;241;43m*\u001b[39;49m\u001b[43mkwargs\u001b[49m\u001b[43m)\u001b[49m\n",
      "File \u001b[1;32mc:\\Python312\\Lib\\site-packages\\sklearn\\model_selection\\_validation.py:888\u001b[0m, in \u001b[0;36m_fit_and_score\u001b[1;34m(estimator, X, y, scorer, train, test, verbose, parameters, fit_params, score_params, return_train_score, return_parameters, return_n_test_samples, return_times, return_estimator, split_progress, candidate_progress, error_score)\u001b[0m\n\u001b[0;32m    886\u001b[0m         estimator\u001b[38;5;241m.\u001b[39mfit(X_train, \u001b[38;5;241m*\u001b[39m\u001b[38;5;241m*\u001b[39mfit_params)\n\u001b[0;32m    887\u001b[0m     \u001b[38;5;28;01melse\u001b[39;00m:\n\u001b[1;32m--> 888\u001b[0m         \u001b[43mestimator\u001b[49m\u001b[38;5;241;43m.\u001b[39;49m\u001b[43mfit\u001b[49m\u001b[43m(\u001b[49m\u001b[43mX_train\u001b[49m\u001b[43m,\u001b[49m\u001b[43m \u001b[49m\u001b[43my_train\u001b[49m\u001b[43m,\u001b[49m\u001b[43m \u001b[49m\u001b[38;5;241;43m*\u001b[39;49m\u001b[38;5;241;43m*\u001b[39;49m\u001b[43mfit_params\u001b[49m\u001b[43m)\u001b[49m\n\u001b[0;32m    890\u001b[0m \u001b[38;5;28;01mexcept\u001b[39;00m \u001b[38;5;167;01mException\u001b[39;00m:\n\u001b[0;32m    891\u001b[0m     \u001b[38;5;66;03m# Note fit time as time until error\u001b[39;00m\n\u001b[0;32m    892\u001b[0m     fit_time \u001b[38;5;241m=\u001b[39m time\u001b[38;5;241m.\u001b[39mtime() \u001b[38;5;241m-\u001b[39m start_time\n",
      "File \u001b[1;32mc:\\Python312\\Lib\\site-packages\\sklearn\\base.py:1473\u001b[0m, in \u001b[0;36m_fit_context.<locals>.decorator.<locals>.wrapper\u001b[1;34m(estimator, *args, **kwargs)\u001b[0m\n\u001b[0;32m   1466\u001b[0m     estimator\u001b[38;5;241m.\u001b[39m_validate_params()\n\u001b[0;32m   1468\u001b[0m \u001b[38;5;28;01mwith\u001b[39;00m config_context(\n\u001b[0;32m   1469\u001b[0m     skip_parameter_validation\u001b[38;5;241m=\u001b[39m(\n\u001b[0;32m   1470\u001b[0m         prefer_skip_nested_validation \u001b[38;5;129;01mor\u001b[39;00m global_skip_validation\n\u001b[0;32m   1471\u001b[0m     )\n\u001b[0;32m   1472\u001b[0m ):\n\u001b[1;32m-> 1473\u001b[0m     \u001b[38;5;28;01mreturn\u001b[39;00m \u001b[43mfit_method\u001b[49m\u001b[43m(\u001b[49m\u001b[43mestimator\u001b[49m\u001b[43m,\u001b[49m\u001b[43m \u001b[49m\u001b[38;5;241;43m*\u001b[39;49m\u001b[43margs\u001b[49m\u001b[43m,\u001b[49m\u001b[43m \u001b[49m\u001b[38;5;241;43m*\u001b[39;49m\u001b[38;5;241;43m*\u001b[39;49m\u001b[43mkwargs\u001b[49m\u001b[43m)\u001b[49m\n",
      "File \u001b[1;32mc:\\Python312\\Lib\\site-packages\\sklearn\\ensemble\\_forest.py:489\u001b[0m, in \u001b[0;36mBaseForest.fit\u001b[1;34m(self, X, y, sample_weight)\u001b[0m\n\u001b[0;32m    478\u001b[0m trees \u001b[38;5;241m=\u001b[39m [\n\u001b[0;32m    479\u001b[0m     \u001b[38;5;28mself\u001b[39m\u001b[38;5;241m.\u001b[39m_make_estimator(append\u001b[38;5;241m=\u001b[39m\u001b[38;5;28;01mFalse\u001b[39;00m, random_state\u001b[38;5;241m=\u001b[39mrandom_state)\n\u001b[0;32m    480\u001b[0m     \u001b[38;5;28;01mfor\u001b[39;00m i \u001b[38;5;129;01min\u001b[39;00m \u001b[38;5;28mrange\u001b[39m(n_more_estimators)\n\u001b[0;32m    481\u001b[0m ]\n\u001b[0;32m    483\u001b[0m \u001b[38;5;66;03m# Parallel loop: we prefer the threading backend as the Cython code\u001b[39;00m\n\u001b[0;32m    484\u001b[0m \u001b[38;5;66;03m# for fitting the trees is internally releasing the Python GIL\u001b[39;00m\n\u001b[0;32m    485\u001b[0m \u001b[38;5;66;03m# making threading more efficient than multiprocessing in\u001b[39;00m\n\u001b[0;32m    486\u001b[0m \u001b[38;5;66;03m# that case. However, for joblib 0.12+ we respect any\u001b[39;00m\n\u001b[0;32m    487\u001b[0m \u001b[38;5;66;03m# parallel_backend contexts set at a higher level,\u001b[39;00m\n\u001b[0;32m    488\u001b[0m \u001b[38;5;66;03m# since correctness does not rely on using threads.\u001b[39;00m\n\u001b[1;32m--> 489\u001b[0m trees \u001b[38;5;241m=\u001b[39m \u001b[43mParallel\u001b[49m\u001b[43m(\u001b[49m\n\u001b[0;32m    490\u001b[0m \u001b[43m    \u001b[49m\u001b[43mn_jobs\u001b[49m\u001b[38;5;241;43m=\u001b[39;49m\u001b[38;5;28;43mself\u001b[39;49m\u001b[38;5;241;43m.\u001b[39;49m\u001b[43mn_jobs\u001b[49m\u001b[43m,\u001b[49m\n\u001b[0;32m    491\u001b[0m \u001b[43m    \u001b[49m\u001b[43mverbose\u001b[49m\u001b[38;5;241;43m=\u001b[39;49m\u001b[38;5;28;43mself\u001b[39;49m\u001b[38;5;241;43m.\u001b[39;49m\u001b[43mverbose\u001b[49m\u001b[43m,\u001b[49m\n\u001b[0;32m    492\u001b[0m \u001b[43m    \u001b[49m\u001b[43mprefer\u001b[49m\u001b[38;5;241;43m=\u001b[39;49m\u001b[38;5;124;43m\"\u001b[39;49m\u001b[38;5;124;43mthreads\u001b[39;49m\u001b[38;5;124;43m\"\u001b[39;49m\u001b[43m,\u001b[49m\n\u001b[0;32m    493\u001b[0m \u001b[43m\u001b[49m\u001b[43m)\u001b[49m\u001b[43m(\u001b[49m\n\u001b[0;32m    494\u001b[0m \u001b[43m    \u001b[49m\u001b[43mdelayed\u001b[49m\u001b[43m(\u001b[49m\u001b[43m_parallel_build_trees\u001b[49m\u001b[43m)\u001b[49m\u001b[43m(\u001b[49m\n\u001b[0;32m    495\u001b[0m \u001b[43m        \u001b[49m\u001b[43mt\u001b[49m\u001b[43m,\u001b[49m\n\u001b[0;32m    496\u001b[0m \u001b[43m        \u001b[49m\u001b[38;5;28;43mself\u001b[39;49m\u001b[38;5;241;43m.\u001b[39;49m\u001b[43mbootstrap\u001b[49m\u001b[43m,\u001b[49m\n\u001b[0;32m    497\u001b[0m \u001b[43m        \u001b[49m\u001b[43mX\u001b[49m\u001b[43m,\u001b[49m\n\u001b[0;32m    498\u001b[0m \u001b[43m        \u001b[49m\u001b[43my\u001b[49m\u001b[43m,\u001b[49m\n\u001b[0;32m    499\u001b[0m \u001b[43m        \u001b[49m\u001b[43msample_weight\u001b[49m\u001b[43m,\u001b[49m\n\u001b[0;32m    500\u001b[0m \u001b[43m        \u001b[49m\u001b[43mi\u001b[49m\u001b[43m,\u001b[49m\n\u001b[0;32m    501\u001b[0m \u001b[43m        \u001b[49m\u001b[38;5;28;43mlen\u001b[39;49m\u001b[43m(\u001b[49m\u001b[43mtrees\u001b[49m\u001b[43m)\u001b[49m\u001b[43m,\u001b[49m\n\u001b[0;32m    502\u001b[0m \u001b[43m        \u001b[49m\u001b[43mverbose\u001b[49m\u001b[38;5;241;43m=\u001b[39;49m\u001b[38;5;28;43mself\u001b[39;49m\u001b[38;5;241;43m.\u001b[39;49m\u001b[43mverbose\u001b[49m\u001b[43m,\u001b[49m\n\u001b[0;32m    503\u001b[0m \u001b[43m        \u001b[49m\u001b[43mclass_weight\u001b[49m\u001b[38;5;241;43m=\u001b[39;49m\u001b[38;5;28;43mself\u001b[39;49m\u001b[38;5;241;43m.\u001b[39;49m\u001b[43mclass_weight\u001b[49m\u001b[43m,\u001b[49m\n\u001b[0;32m    504\u001b[0m \u001b[43m        \u001b[49m\u001b[43mn_samples_bootstrap\u001b[49m\u001b[38;5;241;43m=\u001b[39;49m\u001b[43mn_samples_bootstrap\u001b[49m\u001b[43m,\u001b[49m\n\u001b[0;32m    505\u001b[0m \u001b[43m        \u001b[49m\u001b[43mmissing_values_in_feature_mask\u001b[49m\u001b[38;5;241;43m=\u001b[39;49m\u001b[43mmissing_values_in_feature_mask\u001b[49m\u001b[43m,\u001b[49m\n\u001b[0;32m    506\u001b[0m \u001b[43m    \u001b[49m\u001b[43m)\u001b[49m\n\u001b[0;32m    507\u001b[0m \u001b[43m    \u001b[49m\u001b[38;5;28;43;01mfor\u001b[39;49;00m\u001b[43m \u001b[49m\u001b[43mi\u001b[49m\u001b[43m,\u001b[49m\u001b[43m \u001b[49m\u001b[43mt\u001b[49m\u001b[43m \u001b[49m\u001b[38;5;129;43;01min\u001b[39;49;00m\u001b[43m \u001b[49m\u001b[38;5;28;43menumerate\u001b[39;49m\u001b[43m(\u001b[49m\u001b[43mtrees\u001b[49m\u001b[43m)\u001b[49m\n\u001b[0;32m    508\u001b[0m \u001b[43m\u001b[49m\u001b[43m)\u001b[49m\n\u001b[0;32m    510\u001b[0m \u001b[38;5;66;03m# Collect newly grown trees\u001b[39;00m\n\u001b[0;32m    511\u001b[0m \u001b[38;5;28mself\u001b[39m\u001b[38;5;241m.\u001b[39mestimators_\u001b[38;5;241m.\u001b[39mextend(trees)\n",
      "File \u001b[1;32mc:\\Python312\\Lib\\site-packages\\sklearn\\utils\\parallel.py:74\u001b[0m, in \u001b[0;36mParallel.__call__\u001b[1;34m(self, iterable)\u001b[0m\n\u001b[0;32m     69\u001b[0m config \u001b[38;5;241m=\u001b[39m get_config()\n\u001b[0;32m     70\u001b[0m iterable_with_config \u001b[38;5;241m=\u001b[39m (\n\u001b[0;32m     71\u001b[0m     (_with_config(delayed_func, config), args, kwargs)\n\u001b[0;32m     72\u001b[0m     \u001b[38;5;28;01mfor\u001b[39;00m delayed_func, args, kwargs \u001b[38;5;129;01min\u001b[39;00m iterable\n\u001b[0;32m     73\u001b[0m )\n\u001b[1;32m---> 74\u001b[0m \u001b[38;5;28;01mreturn\u001b[39;00m \u001b[38;5;28;43msuper\u001b[39;49m\u001b[43m(\u001b[49m\u001b[43m)\u001b[49m\u001b[38;5;241;43m.\u001b[39;49m\u001b[38;5;21;43m__call__\u001b[39;49m\u001b[43m(\u001b[49m\u001b[43miterable_with_config\u001b[49m\u001b[43m)\u001b[49m\n",
      "File \u001b[1;32mc:\\Python312\\Lib\\site-packages\\joblib\\parallel.py:1918\u001b[0m, in \u001b[0;36mParallel.__call__\u001b[1;34m(self, iterable)\u001b[0m\n\u001b[0;32m   1916\u001b[0m     output \u001b[38;5;241m=\u001b[39m \u001b[38;5;28mself\u001b[39m\u001b[38;5;241m.\u001b[39m_get_sequential_output(iterable)\n\u001b[0;32m   1917\u001b[0m     \u001b[38;5;28mnext\u001b[39m(output)\n\u001b[1;32m-> 1918\u001b[0m     \u001b[38;5;28;01mreturn\u001b[39;00m output \u001b[38;5;28;01mif\u001b[39;00m \u001b[38;5;28mself\u001b[39m\u001b[38;5;241m.\u001b[39mreturn_generator \u001b[38;5;28;01melse\u001b[39;00m \u001b[38;5;28;43mlist\u001b[39;49m\u001b[43m(\u001b[49m\u001b[43moutput\u001b[49m\u001b[43m)\u001b[49m\n\u001b[0;32m   1920\u001b[0m \u001b[38;5;66;03m# Let's create an ID that uniquely identifies the current call. If the\u001b[39;00m\n\u001b[0;32m   1921\u001b[0m \u001b[38;5;66;03m# call is interrupted early and that the same instance is immediately\u001b[39;00m\n\u001b[0;32m   1922\u001b[0m \u001b[38;5;66;03m# re-used, this id will be used to prevent workers that were\u001b[39;00m\n\u001b[0;32m   1923\u001b[0m \u001b[38;5;66;03m# concurrently finalizing a task from the previous call to run the\u001b[39;00m\n\u001b[0;32m   1924\u001b[0m \u001b[38;5;66;03m# callback.\u001b[39;00m\n\u001b[0;32m   1925\u001b[0m \u001b[38;5;28;01mwith\u001b[39;00m \u001b[38;5;28mself\u001b[39m\u001b[38;5;241m.\u001b[39m_lock:\n",
      "File \u001b[1;32mc:\\Python312\\Lib\\site-packages\\joblib\\parallel.py:1847\u001b[0m, in \u001b[0;36mParallel._get_sequential_output\u001b[1;34m(self, iterable)\u001b[0m\n\u001b[0;32m   1845\u001b[0m \u001b[38;5;28mself\u001b[39m\u001b[38;5;241m.\u001b[39mn_dispatched_batches \u001b[38;5;241m+\u001b[39m\u001b[38;5;241m=\u001b[39m \u001b[38;5;241m1\u001b[39m\n\u001b[0;32m   1846\u001b[0m \u001b[38;5;28mself\u001b[39m\u001b[38;5;241m.\u001b[39mn_dispatched_tasks \u001b[38;5;241m+\u001b[39m\u001b[38;5;241m=\u001b[39m \u001b[38;5;241m1\u001b[39m\n\u001b[1;32m-> 1847\u001b[0m res \u001b[38;5;241m=\u001b[39m \u001b[43mfunc\u001b[49m\u001b[43m(\u001b[49m\u001b[38;5;241;43m*\u001b[39;49m\u001b[43margs\u001b[49m\u001b[43m,\u001b[49m\u001b[43m \u001b[49m\u001b[38;5;241;43m*\u001b[39;49m\u001b[38;5;241;43m*\u001b[39;49m\u001b[43mkwargs\u001b[49m\u001b[43m)\u001b[49m\n\u001b[0;32m   1848\u001b[0m \u001b[38;5;28mself\u001b[39m\u001b[38;5;241m.\u001b[39mn_completed_tasks \u001b[38;5;241m+\u001b[39m\u001b[38;5;241m=\u001b[39m \u001b[38;5;241m1\u001b[39m\n\u001b[0;32m   1849\u001b[0m \u001b[38;5;28mself\u001b[39m\u001b[38;5;241m.\u001b[39mprint_progress()\n",
      "File \u001b[1;32mc:\\Python312\\Lib\\site-packages\\sklearn\\utils\\parallel.py:136\u001b[0m, in \u001b[0;36m_FuncWrapper.__call__\u001b[1;34m(self, *args, **kwargs)\u001b[0m\n\u001b[0;32m    134\u001b[0m     config \u001b[38;5;241m=\u001b[39m {}\n\u001b[0;32m    135\u001b[0m \u001b[38;5;28;01mwith\u001b[39;00m config_context(\u001b[38;5;241m*\u001b[39m\u001b[38;5;241m*\u001b[39mconfig):\n\u001b[1;32m--> 136\u001b[0m     \u001b[38;5;28;01mreturn\u001b[39;00m \u001b[38;5;28;43mself\u001b[39;49m\u001b[38;5;241;43m.\u001b[39;49m\u001b[43mfunction\u001b[49m\u001b[43m(\u001b[49m\u001b[38;5;241;43m*\u001b[39;49m\u001b[43margs\u001b[49m\u001b[43m,\u001b[49m\u001b[43m \u001b[49m\u001b[38;5;241;43m*\u001b[39;49m\u001b[38;5;241;43m*\u001b[39;49m\u001b[43mkwargs\u001b[49m\u001b[43m)\u001b[49m\n",
      "File \u001b[1;32mc:\\Python312\\Lib\\site-packages\\sklearn\\ensemble\\_forest.py:192\u001b[0m, in \u001b[0;36m_parallel_build_trees\u001b[1;34m(tree, bootstrap, X, y, sample_weight, tree_idx, n_trees, verbose, class_weight, n_samples_bootstrap, missing_values_in_feature_mask)\u001b[0m\n\u001b[0;32m    189\u001b[0m     \u001b[38;5;28;01melif\u001b[39;00m class_weight \u001b[38;5;241m==\u001b[39m \u001b[38;5;124m\"\u001b[39m\u001b[38;5;124mbalanced_subsample\u001b[39m\u001b[38;5;124m\"\u001b[39m:\n\u001b[0;32m    190\u001b[0m         curr_sample_weight \u001b[38;5;241m*\u001b[39m\u001b[38;5;241m=\u001b[39m compute_sample_weight(\u001b[38;5;124m\"\u001b[39m\u001b[38;5;124mbalanced\u001b[39m\u001b[38;5;124m\"\u001b[39m, y, indices\u001b[38;5;241m=\u001b[39mindices)\n\u001b[1;32m--> 192\u001b[0m     \u001b[43mtree\u001b[49m\u001b[38;5;241;43m.\u001b[39;49m\u001b[43m_fit\u001b[49m\u001b[43m(\u001b[49m\n\u001b[0;32m    193\u001b[0m \u001b[43m        \u001b[49m\u001b[43mX\u001b[49m\u001b[43m,\u001b[49m\n\u001b[0;32m    194\u001b[0m \u001b[43m        \u001b[49m\u001b[43my\u001b[49m\u001b[43m,\u001b[49m\n\u001b[0;32m    195\u001b[0m \u001b[43m        \u001b[49m\u001b[43msample_weight\u001b[49m\u001b[38;5;241;43m=\u001b[39;49m\u001b[43mcurr_sample_weight\u001b[49m\u001b[43m,\u001b[49m\n\u001b[0;32m    196\u001b[0m \u001b[43m        \u001b[49m\u001b[43mcheck_input\u001b[49m\u001b[38;5;241;43m=\u001b[39;49m\u001b[38;5;28;43;01mFalse\u001b[39;49;00m\u001b[43m,\u001b[49m\n\u001b[0;32m    197\u001b[0m \u001b[43m        \u001b[49m\u001b[43mmissing_values_in_feature_mask\u001b[49m\u001b[38;5;241;43m=\u001b[39;49m\u001b[43mmissing_values_in_feature_mask\u001b[49m\u001b[43m,\u001b[49m\n\u001b[0;32m    198\u001b[0m \u001b[43m    \u001b[49m\u001b[43m)\u001b[49m\n\u001b[0;32m    199\u001b[0m \u001b[38;5;28;01melse\u001b[39;00m:\n\u001b[0;32m    200\u001b[0m     tree\u001b[38;5;241m.\u001b[39m_fit(\n\u001b[0;32m    201\u001b[0m         X,\n\u001b[0;32m    202\u001b[0m         y,\n\u001b[1;32m   (...)\u001b[0m\n\u001b[0;32m    205\u001b[0m         missing_values_in_feature_mask\u001b[38;5;241m=\u001b[39mmissing_values_in_feature_mask,\n\u001b[0;32m    206\u001b[0m     )\n",
      "File \u001b[1;32mc:\\Python312\\Lib\\site-packages\\sklearn\\tree\\_classes.py:294\u001b[0m, in \u001b[0;36mBaseDecisionTree._fit\u001b[1;34m(self, X, y, sample_weight, check_input, missing_values_in_feature_mask)\u001b[0m\n\u001b[0;32m    291\u001b[0m \u001b[38;5;28mself\u001b[39m\u001b[38;5;241m.\u001b[39mn_outputs_ \u001b[38;5;241m=\u001b[39m y\u001b[38;5;241m.\u001b[39mshape[\u001b[38;5;241m1\u001b[39m]\n\u001b[0;32m    293\u001b[0m \u001b[38;5;28;01mif\u001b[39;00m is_classification:\n\u001b[1;32m--> 294\u001b[0m     \u001b[43mcheck_classification_targets\u001b[49m\u001b[43m(\u001b[49m\u001b[43my\u001b[49m\u001b[43m)\u001b[49m\n\u001b[0;32m    295\u001b[0m     y \u001b[38;5;241m=\u001b[39m np\u001b[38;5;241m.\u001b[39mcopy(y)\n\u001b[0;32m    297\u001b[0m     \u001b[38;5;28mself\u001b[39m\u001b[38;5;241m.\u001b[39mclasses_ \u001b[38;5;241m=\u001b[39m []\n",
      "File \u001b[1;32mc:\\Python312\\Lib\\site-packages\\sklearn\\utils\\multiclass.py:211\u001b[0m, in \u001b[0;36mcheck_classification_targets\u001b[1;34m(y)\u001b[0m\n\u001b[0;32m    199\u001b[0m \u001b[38;5;28;01mdef\u001b[39;00m \u001b[38;5;21mcheck_classification_targets\u001b[39m(y):\n\u001b[0;32m    200\u001b[0m \u001b[38;5;250m    \u001b[39m\u001b[38;5;124;03m\"\"\"Ensure that target y is of a non-regression type.\u001b[39;00m\n\u001b[0;32m    201\u001b[0m \n\u001b[0;32m    202\u001b[0m \u001b[38;5;124;03m    Only the following target types (as defined in type_of_target) are allowed:\u001b[39;00m\n\u001b[1;32m   (...)\u001b[0m\n\u001b[0;32m    209\u001b[0m \u001b[38;5;124;03m        Target values.\u001b[39;00m\n\u001b[0;32m    210\u001b[0m \u001b[38;5;124;03m    \"\"\"\u001b[39;00m\n\u001b[1;32m--> 211\u001b[0m     y_type \u001b[38;5;241m=\u001b[39m \u001b[43mtype_of_target\u001b[49m\u001b[43m(\u001b[49m\u001b[43my\u001b[49m\u001b[43m,\u001b[49m\u001b[43m \u001b[49m\u001b[43minput_name\u001b[49m\u001b[38;5;241;43m=\u001b[39;49m\u001b[38;5;124;43m\"\u001b[39;49m\u001b[38;5;124;43my\u001b[39;49m\u001b[38;5;124;43m\"\u001b[39;49m\u001b[43m)\u001b[49m\n\u001b[0;32m    212\u001b[0m     \u001b[38;5;28;01mif\u001b[39;00m y_type \u001b[38;5;129;01mnot\u001b[39;00m \u001b[38;5;129;01min\u001b[39;00m [\n\u001b[0;32m    213\u001b[0m         \u001b[38;5;124m\"\u001b[39m\u001b[38;5;124mbinary\u001b[39m\u001b[38;5;124m\"\u001b[39m,\n\u001b[0;32m    214\u001b[0m         \u001b[38;5;124m\"\u001b[39m\u001b[38;5;124mmulticlass\u001b[39m\u001b[38;5;124m\"\u001b[39m,\n\u001b[1;32m   (...)\u001b[0m\n\u001b[0;32m    217\u001b[0m         \u001b[38;5;124m\"\u001b[39m\u001b[38;5;124mmultilabel-sequences\u001b[39m\u001b[38;5;124m\"\u001b[39m,\n\u001b[0;32m    218\u001b[0m     ]:\n\u001b[0;32m    219\u001b[0m         \u001b[38;5;28;01mraise\u001b[39;00m \u001b[38;5;167;01mValueError\u001b[39;00m(\n\u001b[0;32m    220\u001b[0m             \u001b[38;5;124mf\u001b[39m\u001b[38;5;124m\"\u001b[39m\u001b[38;5;124mUnknown label type: \u001b[39m\u001b[38;5;132;01m{\u001b[39;00my_type\u001b[38;5;132;01m}\u001b[39;00m\u001b[38;5;124m. Maybe you are trying to fit a \u001b[39m\u001b[38;5;124m\"\u001b[39m\n\u001b[0;32m    221\u001b[0m             \u001b[38;5;124m\"\u001b[39m\u001b[38;5;124mclassifier, which expects discrete classes on a \u001b[39m\u001b[38;5;124m\"\u001b[39m\n\u001b[0;32m    222\u001b[0m             \u001b[38;5;124m\"\u001b[39m\u001b[38;5;124mregression target with continuous values.\u001b[39m\u001b[38;5;124m\"\u001b[39m\n\u001b[0;32m    223\u001b[0m         )\n",
      "File \u001b[1;32mc:\\Python312\\Lib\\site-packages\\sklearn\\utils\\multiclass.py:404\u001b[0m, in \u001b[0;36mtype_of_target\u001b[1;34m(y, input_name)\u001b[0m\n\u001b[0;32m    402\u001b[0m \u001b[38;5;28;01mif\u001b[39;00m issparse(first_row_or_val):\n\u001b[0;32m    403\u001b[0m     first_row_or_val \u001b[38;5;241m=\u001b[39m first_row_or_val\u001b[38;5;241m.\u001b[39mdata\n\u001b[1;32m--> 404\u001b[0m \u001b[38;5;28;01mif\u001b[39;00m \u001b[43mxp\u001b[49m\u001b[38;5;241;43m.\u001b[39;49m\u001b[43munique_values\u001b[49m\u001b[43m(\u001b[49m\u001b[43my\u001b[49m\u001b[43m)\u001b[49m\u001b[38;5;241m.\u001b[39mshape[\u001b[38;5;241m0\u001b[39m] \u001b[38;5;241m>\u001b[39m \u001b[38;5;241m2\u001b[39m \u001b[38;5;129;01mor\u001b[39;00m (y\u001b[38;5;241m.\u001b[39mndim \u001b[38;5;241m==\u001b[39m \u001b[38;5;241m2\u001b[39m \u001b[38;5;129;01mand\u001b[39;00m \u001b[38;5;28mlen\u001b[39m(first_row_or_val) \u001b[38;5;241m>\u001b[39m \u001b[38;5;241m1\u001b[39m):\n\u001b[0;32m    405\u001b[0m     \u001b[38;5;66;03m# [1, 2, 3] or [[1., 2., 3]] or [[1, 2]]\u001b[39;00m\n\u001b[0;32m    406\u001b[0m     \u001b[38;5;28;01mreturn\u001b[39;00m \u001b[38;5;124m\"\u001b[39m\u001b[38;5;124mmulticlass\u001b[39m\u001b[38;5;124m\"\u001b[39m \u001b[38;5;241m+\u001b[39m suffix\n\u001b[0;32m    407\u001b[0m \u001b[38;5;28;01melse\u001b[39;00m:\n",
      "File \u001b[1;32mc:\\Python312\\Lib\\site-packages\\sklearn\\utils\\_array_api.py:407\u001b[0m, in \u001b[0;36m_NumPyAPIWrapper.unique_values\u001b[1;34m(self, x)\u001b[0m\n\u001b[0;32m    406\u001b[0m \u001b[38;5;28;01mdef\u001b[39;00m \u001b[38;5;21munique_values\u001b[39m(\u001b[38;5;28mself\u001b[39m, x):\n\u001b[1;32m--> 407\u001b[0m     \u001b[38;5;28;01mreturn\u001b[39;00m \u001b[43mnumpy\u001b[49m\u001b[38;5;241;43m.\u001b[39;49m\u001b[43munique\u001b[49m\u001b[43m(\u001b[49m\u001b[43mx\u001b[49m\u001b[43m)\u001b[49m\n",
      "File \u001b[1;32mc:\\Python312\\Lib\\site-packages\\numpy\\lib\\_arraysetops_impl.py:291\u001b[0m, in \u001b[0;36munique\u001b[1;34m(ar, return_index, return_inverse, return_counts, axis, equal_nan)\u001b[0m\n\u001b[0;32m    289\u001b[0m ar \u001b[38;5;241m=\u001b[39m np\u001b[38;5;241m.\u001b[39masanyarray(ar)\n\u001b[0;32m    290\u001b[0m \u001b[38;5;28;01mif\u001b[39;00m axis \u001b[38;5;129;01mis\u001b[39;00m \u001b[38;5;28;01mNone\u001b[39;00m:\n\u001b[1;32m--> 291\u001b[0m     ret \u001b[38;5;241m=\u001b[39m \u001b[43m_unique1d\u001b[49m\u001b[43m(\u001b[49m\u001b[43mar\u001b[49m\u001b[43m,\u001b[49m\u001b[43m \u001b[49m\u001b[43mreturn_index\u001b[49m\u001b[43m,\u001b[49m\u001b[43m \u001b[49m\u001b[43mreturn_inverse\u001b[49m\u001b[43m,\u001b[49m\u001b[43m \u001b[49m\u001b[43mreturn_counts\u001b[49m\u001b[43m,\u001b[49m\u001b[43m \u001b[49m\n\u001b[0;32m    292\u001b[0m \u001b[43m                    \u001b[49m\u001b[43mequal_nan\u001b[49m\u001b[38;5;241;43m=\u001b[39;49m\u001b[43mequal_nan\u001b[49m\u001b[43m,\u001b[49m\u001b[43m \u001b[49m\u001b[43minverse_shape\u001b[49m\u001b[38;5;241;43m=\u001b[39;49m\u001b[43mar\u001b[49m\u001b[38;5;241;43m.\u001b[39;49m\u001b[43mshape\u001b[49m\u001b[43m,\u001b[49m\u001b[43m \u001b[49m\u001b[43maxis\u001b[49m\u001b[38;5;241;43m=\u001b[39;49m\u001b[38;5;28;43;01mNone\u001b[39;49;00m\u001b[43m)\u001b[49m\n\u001b[0;32m    293\u001b[0m     \u001b[38;5;28;01mreturn\u001b[39;00m _unpack_tuple(ret)\n\u001b[0;32m    295\u001b[0m \u001b[38;5;66;03m# axis was specified and not None\u001b[39;00m\n",
      "File \u001b[1;32mc:\\Python312\\Lib\\site-packages\\numpy\\lib\\_arraysetops_impl.py:350\u001b[0m, in \u001b[0;36m_unique1d\u001b[1;34m(ar, return_index, return_inverse, return_counts, equal_nan, inverse_shape, axis)\u001b[0m\n\u001b[0;32m    344\u001b[0m \u001b[38;5;28;01mdef\u001b[39;00m \u001b[38;5;21m_unique1d\u001b[39m(ar, return_index\u001b[38;5;241m=\u001b[39m\u001b[38;5;28;01mFalse\u001b[39;00m, return_inverse\u001b[38;5;241m=\u001b[39m\u001b[38;5;28;01mFalse\u001b[39;00m,\n\u001b[0;32m    345\u001b[0m               return_counts\u001b[38;5;241m=\u001b[39m\u001b[38;5;28;01mFalse\u001b[39;00m, \u001b[38;5;241m*\u001b[39m, equal_nan\u001b[38;5;241m=\u001b[39m\u001b[38;5;28;01mTrue\u001b[39;00m, inverse_shape\u001b[38;5;241m=\u001b[39m\u001b[38;5;28;01mNone\u001b[39;00m,\n\u001b[0;32m    346\u001b[0m               axis\u001b[38;5;241m=\u001b[39m\u001b[38;5;28;01mNone\u001b[39;00m):\n\u001b[0;32m    347\u001b[0m \u001b[38;5;250m    \u001b[39m\u001b[38;5;124;03m\"\"\"\u001b[39;00m\n\u001b[0;32m    348\u001b[0m \u001b[38;5;124;03m    Find the unique elements of an array, ignoring shape.\u001b[39;00m\n\u001b[0;32m    349\u001b[0m \u001b[38;5;124;03m    \"\"\"\u001b[39;00m\n\u001b[1;32m--> 350\u001b[0m     ar \u001b[38;5;241m=\u001b[39m \u001b[43mnp\u001b[49m\u001b[38;5;241;43m.\u001b[39;49m\u001b[43masanyarray\u001b[49m\u001b[43m(\u001b[49m\u001b[43mar\u001b[49m\u001b[43m)\u001b[49m\u001b[38;5;241;43m.\u001b[39;49m\u001b[43mflatten\u001b[49m\u001b[43m(\u001b[49m\u001b[43m)\u001b[49m\n\u001b[0;32m    352\u001b[0m     optional_indices \u001b[38;5;241m=\u001b[39m return_index \u001b[38;5;129;01mor\u001b[39;00m return_inverse\n\u001b[0;32m    354\u001b[0m     \u001b[38;5;28;01mif\u001b[39;00m optional_indices:\n",
      "\u001b[1;31mKeyboardInterrupt\u001b[0m: "
     ]
    }
   ],
   "source": [
    "# retrain the model with the smaller dataset and bootstrap enabled\n",
    "X_train, X_val, y_train, y_val = train_test_split(smaller_train, y, test_size=0.25, random_state=0)\n",
    "last_acc = 0\n",
    "best_trees = 0\n",
    "\n",
    "\n",
    "for t in range(lower_bound, upper_bound):\n",
    "    model = RandomForestClassifier(n_estimators=t, bootstrap=True)\n",
    "    model.fit(X_train, y_train)\n",
    "    y_pred = model.predict(X_val)\n",
    "    acc_v2.append(accuracy_score(y_val, y_pred))\n",
    "    score_v2.append(cross_val_score(model, smaller_train, y, cv=cross_valid).mean())\n",
    "    \n",
    "    if acc_v2[-1] > last_acc:\n",
    "        last_acc = acc_v2[-1]\n",
    "        best_trees = t\n",
    "        \n",
    "    print (\"t: {:2d} | Accuracy {:.3f}\".format(t,acc[-1]), \" | Cross validation score {:.3f}\".format(score[-1]))"
   ]
  },
  {
   "cell_type": "code",
   "execution_count": null,
   "metadata": {},
   "outputs": [
    {
     "name": "stdout",
     "output_type": "stream",
     "text": [
      "Best accuracy:  0.6836461126005362 with n_estimators =  33\n",
      "Best score:  0.6197047334890022\n"
     ]
    }
   ],
   "source": [
    "results = result_analysis(acc, score)\n",
    "print(\"Best accuracy: \", results[0], \"with n_estimators = \", best_trees) \n",
    "print(\"Best score: \",  results[1])"
   ]
  },
  {
   "cell_type": "markdown",
   "metadata": {},
   "source": [
    "---"
   ]
  },
  {
   "cell_type": "code",
   "execution_count": null,
   "metadata": {},
   "outputs": [
    {
     "data": {
      "text/plain": [
       "<matplotlib.legend.Legend at 0x272c05b7140>"
      ]
     },
     "execution_count": 17,
     "metadata": {},
     "output_type": "execute_result"
    },
    {
     "data": {
      "image/png": "[encoded data removed]",
      "text/plain": [
       "<Figure size 600x600 with 1 Axes>"
      ]
     },
     "metadata": {},
     "output_type": "display_data"
    }
   ],
   "source": [
    "from sklearn.utils import resample\n",
    "\n",
    "N_TESTS = 50\n",
    "stats = np.array([])\n",
    "top_classification_range = range(1, best_trees + 10)\n",
    "\n",
    "\n",
    "for t in top_classification_range:\n",
    "    y_preds = np.array([])\n",
    "    for i in range(N_TESTS):\n",
    "        X_resampled, y_resampled = resample(X_train, y_train, n_samples=int(0.8*len(y_train)) )\n",
    "        model_rf = RandomForestClassifier(n_estimators=t)\n",
    "        model_rf.fit(X_resampled, y_resampled)\n",
    "        y_pred = model_rf.predict(X_train)\n",
    "        y_preds = np.column_stack( [y_preds, y_pred] ) if y_preds.size else y_pred\n",
    "\n",
    "    dt_bias     = (y_train-np.mean(y_preds,axis=1))**2\n",
    "    dt_variance = np.var(y_preds,axis=1)\n",
    "    dt_error    = (y_preds - y_train.to_numpy().reshape(-1, 1))**2 #i need the reshape to make it a column vector. To use the 'reshape()' method\n",
    "                                                                #i need the object to be a numpy array. Actually it is a Pandas Series so i convert it \n",
    "\n",
    "    run_stats = np.array([dt_error.mean(), dt_bias.mean(), dt_variance.mean()])\n",
    "    stats = np.column_stack([stats, run_stats]) if stats.size else run_stats\n",
    "\n",
    "fig, ax = plt.subplots(figsize=(6,6))\n",
    "ax.plot(top_classification_range, stats[0,:], 'o:', label='Error')\n",
    "ax.plot(top_classification_range, stats[1,:], 'o:', label='Bias$^2$')\n",
    "ax.plot(top_classification_range, stats[2,:], 'o:', label='Variance')\n",
    "ax.set_title(\"Bias/Variance Decomposition\")\n",
    "ax.set_xlabel('Number of Trees')\n",
    "ax.set_ylabel('Error')\n",
    "ax.grid()\n",
    "ax.legend()"
   ]
  },
  {
   "cell_type": "markdown",
   "metadata": {},
   "source": [
    "---"
   ]
  },
  {
   "cell_type": "markdown",
   "metadata": {},
   "source": [
    "Al crescere degli alberi della mia Random Forest l'errore totale si stabilizza intorno ai 15 alberi completi, anche allenando un maggior numero di alberi, la varianza nello specifico sembra rimanere pressoché, di conseguenza l'errore totale. \n",
    "Poiché allenare un numero spropositato di alberi non risulta essera la scelta corretta per aumentare l'accuracy di questo modello, proseguo in altro modo:\n",
    "\n",
    "Disponendo di molte features ma di poche classi: _sii_ ammette valori rispettivamente uguali a:\n",
    " - 0;\n",
    " - 1;\n",
    " - 2;\n",
    " - 3;\n",
    " \n",
    "Decido di lavorare concentrandomi su un compromesso tra completezza degli alberi e profondità della random forest. Eseguo quindi il tuning di altri parametri del mio modello"
   ]
  },
  {
   "cell_type": "code",
   "execution_count": null,
   "metadata": {},
   "outputs": [
    {
     "data": {
      "text/html": [
       "<div>\n",
       "<style scoped>\n",
       "    .dataframe tbody tr th:only-of-type {\n",
       "        vertical-align: middle;\n",
       "    }\n",
       "\n",
       "    .dataframe tbody tr th {\n",
       "        vertical-align: top;\n",
       "    }\n",
       "\n",
       "    .dataframe thead th {\n",
       "        text-align: right;\n",
       "    }\n",
       "</style>\n",
       "<table border=\"1\" class=\"dataframe\">\n",
       "  <thead>\n",
       "    <tr style=\"text-align: right;\">\n",
       "      <th></th>\n",
       "      <th>Basic_Demos-Age</th>\n",
       "      <th>CGAS-CGAS_Score</th>\n",
       "      <th>Physical-Height</th>\n",
       "      <th>Physical-Weight</th>\n",
       "      <th>Physical-Diastolic_BP</th>\n",
       "      <th>Physical-HeartRate</th>\n",
       "      <th>Physical-Systolic_BP</th>\n",
       "      <th>FGC-FGC_CU</th>\n",
       "      <th>FGC-FGC_PU</th>\n",
       "      <th>FGC-FGC_SRR</th>\n",
       "      <th>BIA-BIA_DEE</th>\n",
       "      <th>SDS-SDS_Total_Raw</th>\n",
       "      <th>PreInt_EduHx-computerinternet_hoursday</th>\n",
       "    </tr>\n",
       "  </thead>\n",
       "  <tbody>\n",
       "    <tr>\n",
       "      <th>0</th>\n",
       "      <td>5.0</td>\n",
       "      <td>51.0</td>\n",
       "      <td>46.0</td>\n",
       "      <td>51.0</td>\n",
       "      <td>67.0</td>\n",
       "      <td>85.0</td>\n",
       "      <td>110.0</td>\n",
       "      <td>0.00</td>\n",
       "      <td>0.0</td>\n",
       "      <td>6.00</td>\n",
       "      <td>1492.0</td>\n",
       "      <td>41.0</td>\n",
       "      <td>3.0</td>\n",
       "    </tr>\n",
       "    <tr>\n",
       "      <th>1</th>\n",
       "      <td>9.0</td>\n",
       "      <td>62.0</td>\n",
       "      <td>48.0</td>\n",
       "      <td>46.0</td>\n",
       "      <td>75.0</td>\n",
       "      <td>70.0</td>\n",
       "      <td>122.0</td>\n",
       "      <td>3.00</td>\n",
       "      <td>5.0</td>\n",
       "      <td>13.75</td>\n",
       "      <td>1499.0</td>\n",
       "      <td>46.0</td>\n",
       "      <td>0.0</td>\n",
       "    </tr>\n",
       "    <tr>\n",
       "      <th>2</th>\n",
       "      <td>9.0</td>\n",
       "      <td>71.0</td>\n",
       "      <td>56.0</td>\n",
       "      <td>82.0</td>\n",
       "      <td>60.0</td>\n",
       "      <td>97.0</td>\n",
       "      <td>117.0</td>\n",
       "      <td>22.50</td>\n",
       "      <td>5.0</td>\n",
       "      <td>7.00</td>\n",
       "      <td>1923.0</td>\n",
       "      <td>31.0</td>\n",
       "      <td>0.0</td>\n",
       "    </tr>\n",
       "    <tr>\n",
       "      <th>3</th>\n",
       "      <td>13.0</td>\n",
       "      <td>50.0</td>\n",
       "      <td>60.0</td>\n",
       "      <td>112.0</td>\n",
       "      <td>60.0</td>\n",
       "      <td>73.0</td>\n",
       "      <td>102.0</td>\n",
       "      <td>12.00</td>\n",
       "      <td>6.0</td>\n",
       "      <td>13.75</td>\n",
       "      <td>1996.0</td>\n",
       "      <td>40.0</td>\n",
       "      <td>0.0</td>\n",
       "    </tr>\n",
       "    <tr>\n",
       "      <th>4</th>\n",
       "      <td>10.0</td>\n",
       "      <td>65.0</td>\n",
       "      <td>55.0</td>\n",
       "      <td>85.0</td>\n",
       "      <td>123.0</td>\n",
       "      <td>83.0</td>\n",
       "      <td>163.0</td>\n",
       "      <td>11.25</td>\n",
       "      <td>2.0</td>\n",
       "      <td>13.75</td>\n",
       "      <td>1817.0</td>\n",
       "      <td>27.0</td>\n",
       "      <td>3.0</td>\n",
       "    </tr>\n",
       "  </tbody>\n",
       "</table>\n",
       "</div>"
      ],
      "text/plain": [
       "   Basic_Demos-Age  CGAS-CGAS_Score  Physical-Height  Physical-Weight  \\\n",
       "0              5.0             51.0             46.0             51.0   \n",
       "1              9.0             62.0             48.0             46.0   \n",
       "2              9.0             71.0             56.0             82.0   \n",
       "3             13.0             50.0             60.0            112.0   \n",
       "4             10.0             65.0             55.0             85.0   \n",
       "\n",
       "   Physical-Diastolic_BP  Physical-HeartRate  Physical-Systolic_BP  \\\n",
       "0                   67.0                85.0                 110.0   \n",
       "1                   75.0                70.0                 122.0   \n",
       "2                   60.0                97.0                 117.0   \n",
       "3                   60.0                73.0                 102.0   \n",
       "4                  123.0                83.0                 163.0   \n",
       "\n",
       "   FGC-FGC_CU  FGC-FGC_PU  FGC-FGC_SRR  BIA-BIA_DEE  SDS-SDS_Total_Raw  \\\n",
       "0        0.00         0.0         6.00       1492.0               41.0   \n",
       "1        3.00         5.0        13.75       1499.0               46.0   \n",
       "2       22.50         5.0         7.00       1923.0               31.0   \n",
       "3       12.00         6.0        13.75       1996.0               40.0   \n",
       "4       11.25         2.0        13.75       1817.0               27.0   \n",
       "\n",
       "   PreInt_EduHx-computerinternet_hoursday  \n",
       "0                                     3.0  \n",
       "1                                     0.0  \n",
       "2                                     0.0  \n",
       "3                                     0.0  \n",
       "4                                     3.0  "
      ]
     },
     "execution_count": 18,
     "metadata": {},
     "output_type": "execute_result"
    }
   ],
   "source": [
    "train.head()"
   ]
  },
  {
   "cell_type": "code",
   "execution_count": null,
   "metadata": {},
   "outputs": [
    {
     "name": "stdout",
     "output_type": "stream",
     "text": [
      "<class 'pandas.core.frame.DataFrame'>\n",
      "RangeIndex: 1491 entries, 0 to 1490\n",
      "Data columns (total 13 columns):\n",
      " #   Column                                  Non-Null Count  Dtype  \n",
      "---  ------                                  --------------  -----  \n",
      " 0   Basic_Demos-Age                         1491 non-null   float64\n",
      " 1   CGAS-CGAS_Score                         1491 non-null   float64\n",
      " 2   Physical-Height                         1491 non-null   float64\n",
      " 3   Physical-Weight                         1491 non-null   float64\n",
      " 4   Physical-Diastolic_BP                   1491 non-null   float64\n",
      " 5   Physical-HeartRate                      1491 non-null   float64\n",
      " 6   Physical-Systolic_BP                    1491 non-null   float64\n",
      " 7   FGC-FGC_CU                              1491 non-null   float64\n",
      " 8   FGC-FGC_PU                              1491 non-null   float64\n",
      " 9   FGC-FGC_SRR                             1491 non-null   float64\n",
      " 10  BIA-BIA_DEE                             1491 non-null   float64\n",
      " 11  SDS-SDS_Total_Raw                       1491 non-null   float64\n",
      " 12  PreInt_EduHx-computerinternet_hoursday  1491 non-null   float64\n",
      "dtypes: float64(13)\n",
      "memory usage: 151.6 KB\n"
     ]
    }
   ],
   "source": [
    "train.info()"
   ]
  },
  {
   "cell_type": "code",
   "execution_count": null,
   "metadata": {},
   "outputs": [],
   "source": [
    "#variable initialization\n",
    "acc   = []\n",
    "score = []\n",
    "lower_depth = 1\n",
    "upper_depth = 60\n",
    "cross_valid = 4"
   ]
  },
  {
   "cell_type": "code",
   "execution_count": null,
   "metadata": {},
   "outputs": [],
   "source": [
    "X_train, X_val, y_train, y_val = train_test_split(train, y, test_size=0.25, random_state=0)"
   ]
  },
  {
   "cell_type": "code",
   "execution_count": null,
   "metadata": {},
   "outputs": [
    {
     "name": "stdout",
     "output_type": "stream",
     "text": [
      "t:  1 | Accuracy 0.633  | Cross validation score 0.609\n",
      "t:  2 | Accuracy 0.627  | Cross validation score 0.610\n",
      "t:  3 | Accuracy 0.651  | Cross validation score 0.617\n",
      "t:  4 | Accuracy 0.676  | Cross validation score 0.616\n",
      "t:  5 | Accuracy 0.662  | Cross validation score 0.622\n",
      "t:  6 | Accuracy 0.665  | Cross validation score 0.619\n",
      "t:  7 | Accuracy 0.665  | Cross validation score 0.624\n",
      "t:  8 | Accuracy 0.651  | Cross validation score 0.621\n",
      "t:  9 | Accuracy 0.676  | Cross validation score 0.617\n",
      "t: 10 | Accuracy 0.681  | Cross validation score 0.616\n",
      "t: 11 | Accuracy 0.660  | Cross validation score 0.624\n",
      "t: 12 | Accuracy 0.668  | Cross validation score 0.602\n",
      "t: 13 | Accuracy 0.668  | Cross validation score 0.607\n",
      "t: 14 | Accuracy 0.654  | Cross validation score 0.616\n",
      "t: 15 | Accuracy 0.668  | Cross validation score 0.619\n",
      "t: 16 | Accuracy 0.662  | Cross validation score 0.609\n",
      "t: 17 | Accuracy 0.678  | Cross validation score 0.616\n",
      "t: 18 | Accuracy 0.657  | Cross validation score 0.616\n",
      "t: 19 | Accuracy 0.654  | Cross validation score 0.616\n",
      "t: 20 | Accuracy 0.643  | Cross validation score 0.619\n",
      "t: 21 | Accuracy 0.643  | Cross validation score 0.620\n",
      "t: 22 | Accuracy 0.654  | Cross validation score 0.612\n",
      "t: 23 | Accuracy 0.646  | Cross validation score 0.606\n",
      "t: 24 | Accuracy 0.660  | Cross validation score 0.610\n",
      "t: 25 | Accuracy 0.668  | Cross validation score 0.622\n",
      "t: 26 | Accuracy 0.668  | Cross validation score 0.610\n",
      "t: 27 | Accuracy 0.673  | Cross validation score 0.611\n",
      "t: 28 | Accuracy 0.665  | Cross validation score 0.608\n",
      "t: 29 | Accuracy 0.662  | Cross validation score 0.617\n",
      "t: 30 | Accuracy 0.641  | Cross validation score 0.615\n",
      "t: 31 | Accuracy 0.681  | Cross validation score 0.603\n",
      "t: 32 | Accuracy 0.673  | Cross validation score 0.614\n",
      "t: 33 | Accuracy 0.654  | Cross validation score 0.602\n",
      "t: 34 | Accuracy 0.654  | Cross validation score 0.609\n",
      "t: 35 | Accuracy 0.649  | Cross validation score 0.621\n",
      "t: 36 | Accuracy 0.654  | Cross validation score 0.614\n",
      "t: 37 | Accuracy 0.668  | Cross validation score 0.608\n",
      "t: 38 | Accuracy 0.657  | Cross validation score 0.619\n",
      "t: 39 | Accuracy 0.651  | Cross validation score 0.617\n",
      "t: 40 | Accuracy 0.668  | Cross validation score 0.615\n",
      "t: 41 | Accuracy 0.654  | Cross validation score 0.610\n",
      "t: 42 | Accuracy 0.660  | Cross validation score 0.619\n",
      "t: 43 | Accuracy 0.668  | Cross validation score 0.613\n",
      "t: 44 | Accuracy 0.646  | Cross validation score 0.623\n",
      "t: 45 | Accuracy 0.641  | Cross validation score 0.612\n",
      "t: 46 | Accuracy 0.665  | Cross validation score 0.614\n",
      "t: 47 | Accuracy 0.678  | Cross validation score 0.612\n",
      "t: 48 | Accuracy 0.641  | Cross validation score 0.612\n",
      "t: 49 | Accuracy 0.660  | Cross validation score 0.618\n",
      "t: 50 | Accuracy 0.689  | Cross validation score 0.613\n",
      "t: 51 | Accuracy 0.662  | Cross validation score 0.609\n",
      "t: 52 | Accuracy 0.673  | Cross validation score 0.618\n",
      "t: 53 | Accuracy 0.646  | Cross validation score 0.610\n",
      "t: 54 | Accuracy 0.662  | Cross validation score 0.618\n",
      "t: 55 | Accuracy 0.673  | Cross validation score 0.613\n",
      "t: 56 | Accuracy 0.657  | Cross validation score 0.621\n",
      "t: 57 | Accuracy 0.660  | Cross validation score 0.613\n",
      "t: 58 | Accuracy 0.673  | Cross validation score 0.612\n",
      "t: 59 | Accuracy 0.649  | Cross validation score 0.607\n"
     ]
    }
   ],
   "source": [
    "last_acc = 0\n",
    "best_depth = 0\n",
    "\n",
    "for t in range (lower_depth, upper_depth):\n",
    "    model = RandomForestClassifier(max_depth=t)\n",
    "    model.fit(X_train, y_train)\n",
    "    y_pred = model.predict(X_val)\n",
    "    acc.append(accuracy_score(y_val, y_pred))\n",
    "    score.append(cross_val_score(model, train, y, cv=cross_valid).mean())\n",
    "\n",
    "    if acc[-1] > last_acc:\n",
    "        last_acc = acc[-1]\n",
    "        best_depth = t\n",
    "\n",
    "    print (\"t: {:2d} | Accuracy {:.3f}\".format(t,acc[-1]), \" | Cross validation score {:.3f}\".format(score[-1]))"
   ]
  },
  {
   "cell_type": "code",
   "execution_count": null,
   "metadata": {},
   "outputs": [
    {
     "name": "stdout",
     "output_type": "stream",
     "text": [
      "Best accuracy:  0.6890080428954424 with max_depth =  50\n",
      "Best score:  0.6244198449076076\n"
     ]
    }
   ],
   "source": [
    "results = result_analysis(acc, score)\n",
    "print(\"Best accuracy: \", results[0], \"with max_depth = \", best_depth)\n",
    "print(\"Best score: \",  results[1])"
   ]
  },
  {
   "cell_type": "markdown",
   "metadata": {},
   "source": [
    "**Considerazioni:**\n",
    "\n",
    "- Usando il *cleaned_data_export* dal file *data_cleaning*, nonostante il processo di paramether tuning non andiamo oltre i 0.60 di _accuracy_ e 0.59 di _cross validation score_. I dati variano all'incirca attorno a questi valori per ogni esecuzione svolta\n",
    "\n",
    "- Usando il *v4_cleaned_dataset* dal file *data_cleaning_v4*, svolgendo lo stesso processo di paramether tuning notiamo un aumento stabile dell'_accuracy_ che, in ogni esecuzione svolta arriva attorno ai 0.64 circa, lasciando indietro il _cross validation score_ che rimane stabile attorno ai 0.59"
   ]
  },
  {
   "cell_type": "code",
   "execution_count": null,
   "metadata": {},
   "outputs": [
    {
     "data": {
      "text/plain": [
       "\" That's stupid: 560h of training time\\nfor d in range(lower_depth, upper_depth):\\n    for t in range(lower_bound, upper_bound):\\n        model = RandomForestClassifier(max_depth=d, n_estimators=t)\\n        model.fit(X_train, y_train)\\n        y_pred = model.predict(X_val)\\n        acc.append(accuracy_score(y_val, y_pred))\\n        score.append(cross_val_score(model, train, y, cv=cross_valid).mean())\\n\\n        if acc[-1] > last_acc:\\n            last_acc = acc[-1]\\n            best_depth_v2 = d\\n            best_trees_v2 = t \""
      ]
     },
     "execution_count": 24,
     "metadata": {},
     "output_type": "execute_result"
    }
   ],
   "source": [
    "\"\"\" That's stupid: 560h of training time\n",
    "for d in range(lower_depth, upper_depth):\n",
    "    for t in range(lower_bound, upper_bound):\n",
    "        model = RandomForestClassifier(max_depth=d, n_estimators=t)\n",
    "        model.fit(X_train, y_train)\n",
    "        y_pred = model.predict(X_val)\n",
    "        acc.append(accuracy_score(y_val, y_pred))\n",
    "        score.append(cross_val_score(model, train, y, cv=cross_valid).mean())\n",
    "\n",
    "        if acc[-1] > last_acc:\n",
    "            last_acc = acc[-1]\n",
    "            best_depth_v2 = d\n",
    "            best_trees_v2 = t \"\"\""
   ]
  },
  {
   "cell_type": "code",
   "execution_count": null,
   "metadata": {},
   "outputs": [
    {
     "ename": "NameError",
     "evalue": "name 'best_depth_v2' is not defined",
     "output_type": "error",
     "traceback": [
      "\u001b[1;31m---------------------------------------------------------------------------\u001b[0m",
      "\u001b[1;31mNameError\u001b[0m                                 Traceback (most recent call last)",
      "Cell \u001b[1;32mIn[25], line 2\u001b[0m\n\u001b[0;32m      1\u001b[0m results \u001b[38;5;241m=\u001b[39m result_analysis(acc, score)\n\u001b[1;32m----> 2\u001b[0m \u001b[38;5;28mprint\u001b[39m(\u001b[38;5;124m\"\u001b[39m\u001b[38;5;124mBest accuracy: \u001b[39m\u001b[38;5;124m\"\u001b[39m, results[\u001b[38;5;241m0\u001b[39m], \u001b[38;5;124m\"\u001b[39m\u001b[38;5;124mwith max_depth = \u001b[39m\u001b[38;5;124m\"\u001b[39m, \u001b[43mbest_depth_v2\u001b[49m, \u001b[38;5;124m\"\u001b[39m\u001b[38;5;124mand n_estimators = \u001b[39m\u001b[38;5;124m\"\u001b[39m, best_trees_v2)\n\u001b[0;32m      3\u001b[0m \u001b[38;5;28mprint\u001b[39m(\u001b[38;5;124m\"\u001b[39m\u001b[38;5;124mBest score: \u001b[39m\u001b[38;5;124m\"\u001b[39m,  results[\u001b[38;5;241m1\u001b[39m])\n",
      "\u001b[1;31mNameError\u001b[0m: name 'best_depth_v2' is not defined"
     ]
    }
   ],
   "source": [
    "results = result_analysis(acc, score)\n",
    "print(\"Best accuracy: \", results[0], \"with max_depth = \", best_depth_v2, \"and n_estimators = \", best_trees_v2)\n",
    "print(\"Best score: \",  results[1])"
   ]
  },
  {
   "cell_type": "markdown",
   "metadata": {},
   "source": [
    "Nonostante lo sforzo nel migliorare i parametri per aumentare i punteggi di accuracy e validation score, non è possibile alzarli oltre il 0.6;\n",
    " \n",
    "Agisco quindi diversamente tramite ulteriore pulizia dei dati che avviene nel file _data-cleaning-v2.ipynb_\n",
    " "
   ]
  }
 ],
 "metadata": {
  "kernelspec": {
   "display_name": "Python 3",
   "language": "python",
   "name": "python3"
  },
  "language_info": {
   "codemirror_mode": {
    "name": "ipython",
    "version": 3
   },
   "file_extension": ".py",
   "mimetype": "text/x-python",
   "name": "python",
   "nbconvert_exporter": "python",
   "pygments_lexer": "ipython3",
   "version": "3.12.7"
  }
 },
 "nbformat": 4,
 "nbformat_minor": 2
}
