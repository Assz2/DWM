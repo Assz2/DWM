{
 "cells": [
  {
   "cell_type": "markdown",
   "metadata": {},
   "source": [
    "### **Data Cleaning Workflow** \n",
    "---\n",
    "#### **1. Import Data**  \n",
    "- Drop records where:  \n",
    "   - **`'sii'`** is `NaN`.  \n",
    "- Save it as target variables:  \n",
    "   - 🎯 **`sii`**  \n",
    "---\n",
    "#### **2. Feature Cleaning**  \n",
    "-  Drop all **features** that are present **only in the train set**.  \n",
    "-  Remove features where **`NaN` values ≥ 50%** (Threshold: **`0.5`**).  \n",
    "-  Find out the `Numerical` and the `Categorical` Features\n",
    "---\n",
    "#### **3. Outliers Removal**  \n",
    "- Find out the 20th `most corraleted` to `sii`features  \n",
    "   -  Remove the numerical discrete ones\n",
    "- Remove all the rows with extreme values in **`at least`** one of the `selected features`\n",
    "---\n",
    "#### **4. Feature Engineering**  \n",
    "- **`Missing Value Imputation`** exploiting `Bayesan Ridge`\n",
    "- **`1HE`** Categorical Features\n",
    "- Merge **`FGC-Feature`** with its relative **`FGC-Feature_Zone`**\n",
    "   -  Remove all FGC_Zone and for every record with Zone > 0, merge it with a **`25% more than the original value`**\n",
    "- Exploit a **`RandomForestClassifier`** and a **`Recursive Feature Elimination`** to filter the best features\n",
    "- Check the **`HeatMap of the Correlation`** between the features. Remove Features with a correlation between them **≥ 0.9**\n",
    "---\n",
    "#### **5. Export Dataset**  \n",
    "- **Export the cleaned dataset**.  \n",
    "- Proceed to:  \n",
    "   - Build **four classification models**.  \n",
    "   - Perform **hyperparameter tuning**.  \n",
    "   - Document appropriate **considerations**.\n",
    "\n"
   ]
  }
 ],
 "metadata": {
  "kernelspec": {
   "display_name": "Python 3",
   "language": "python",
   "name": "python3"
  },
  "language_info": {
   "name": "python",
   "version": "3.12.2"
  }
 },
 "nbformat": 4,
 "nbformat_minor": 2
}
