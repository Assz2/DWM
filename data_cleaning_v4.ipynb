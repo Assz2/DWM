{
 "cells": [
  {
   "cell_type": "markdown",
   "metadata": {},
   "source": [
    "# Procedimento:\n",
    "\n",
    "- Importare dati, isolare feature _'sii'_  (target feature)\n",
    "- Rimuovere le feature presenti solo nel train e non test set\n",
    "- Rimuovere feature con una percentuale di valori NaN >= 60%\n",
    "- Splittare feature tra categoriche e numeriche\n",
    "- Rimuovere record con una percentuale di valori NaN >= [ (considerando le 39 feature numeriche, definisco la percentuale come: numero feature Physical + numero feature FGC + numero feature BIA / 39 ) ] * 100\n",
    "- Boxplot delle feature (suddivise per tipologia, BIA; Physical; FGC; etc.) per visualizzare gli outliers\n",
    "- Rimuovo record che presenta grandi outliers (rischio di aumentare MSE del modello)\n",
    "- [OPZIONALE] Provare a unificare feature simili o aggregabili (Physical_Height con Physical_Weight con Physical_BMI)\n",
    "- [OPZIONALE] Capire se vale la pena unificare blocco FGC formato da FGC_attributo; FGC_attributo_zona\n",
    "- Capire come riempire i record NaN (usare media? interpolazione? insiemi di medie?)\n",
    "- Capito ciò allineare il riempimento con il tipo di dato presente in origine (se dato registrato è intero e riempio con x, se 0<=x < 0.5 floor(x); se 0.5 < x < 1 ceiling(x) )\n",
    "- 1HE su feature categoriche\n",
    "- Estraggo dataset"
   ]
  }
 ],
 "metadata": {
  "language_info": {
   "name": "python"
  }
 },
 "nbformat": 4,
 "nbformat_minor": 2
}
